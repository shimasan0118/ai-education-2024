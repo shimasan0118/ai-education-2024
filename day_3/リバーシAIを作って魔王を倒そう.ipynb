{
 "cells": [
  {
   "cell_type": "markdown",
   "id": "02f1f449-4f37-42d6-86d7-988897be138c",
   "metadata": {},
   "source": [
    "# リバーシAIを作って魔王を倒そう\n",
    "このワークでは、リバーシアドベンチャーに存在する魔王を倒すために、オセロAIを構築していきます。  \n",
    "最初にデータセットの確認していき、AIの構築、学習を行っていきます。    \n",
    "最後にシミュレーター環境で魔王とAIを戦わせることで、 魔王を倒すAIが作れていることを確認しましょう。"
   ]
  },
  {
   "cell_type": "markdown",
   "id": "e30da4cf-0134-411e-b792-92953ddf5083",
   "metadata": {},
   "source": [
    "## 必要なライブラリのインポートや準備\n",
    "まず、今回の学習モデルに必要なライブラリのインポートをしていきましょう"
   ]
  },
  {
   "cell_type": "code",
   "execution_count": 1,
   "id": "ba728d37-d027-474e-b162-f797ea07d3e1",
   "metadata": {
    "tags": []
   },
   "outputs": [
    {
     "name": "stderr",
     "output_type": "stream",
     "text": [
      "2024-01-23 11:23:48.595298: I tensorflow/core/platform/cpu_feature_guard.cc:182] This TensorFlow binary is optimized to use available CPU instructions in performance-critical operations.\n",
      "To enable the following instructions: AVX2 FMA, in other operations, rebuild TensorFlow with the appropriate compiler flags.\n"
     ]
    }
   ],
   "source": [
    "from tensorflow import keras\n",
    "import japanize_matplotlib\n",
    "import pickle\n",
    "import matplotlib.pyplot as plt\n",
    "import matplotlib.ticker as ticker\n",
    "import pandas as pd"
   ]
  },
  {
   "cell_type": "code",
   "execution_count": 2,
   "id": "042dd9fd-1108-4d07-83d3-e6a915a29f6f",
   "metadata": {
    "tags": []
   },
   "outputs": [],
   "source": [
    "from utils import utils # リバーシ関連の便利な機能があるモジュール\n",
    "import reversi #　リバーシの操作に関連する機能があるモジュール"
   ]
  },
  {
   "cell_type": "markdown",
   "id": "32b8bbc8-38df-4ce0-b644-114be1fefd7a",
   "metadata": {},
   "source": [
    "## データセットの確認\n",
    "インポートができたら、今回AIを学習させるために使うデータを確認してみましょう"
   ]
  },
  {
   "cell_type": "code",
   "execution_count": 3,
   "id": "f97d32fa-9019-4eb5-8c98-20c5f56b90b0",
   "metadata": {
    "tags": []
   },
   "outputs": [],
   "source": [
    "import pickle\n",
    "f = open('reversi_dataset/raw_data.txt', 'rb')\n",
    "data = pickle.load(f)"
   ]
  },
  {
   "cell_type": "code",
   "execution_count": 4,
   "id": "4b0b6312-b40c-4df8-884a-78b47cffc3b9",
   "metadata": {
    "tags": []
   },
   "outputs": [
    {
     "data": {
      "text/html": [
       "<div>\n",
       "<style scoped>\n",
       "    .dataframe tbody tr th:only-of-type {\n",
       "        vertical-align: middle;\n",
       "    }\n",
       "\n",
       "    .dataframe tbody tr th {\n",
       "        vertical-align: top;\n",
       "    }\n",
       "\n",
       "    .dataframe thead th {\n",
       "        text-align: right;\n",
       "    }\n",
       "</style>\n",
       "<table border=\"1\" class=\"dataframe\">\n",
       "  <thead>\n",
       "    <tr style=\"text-align: right;\">\n",
       "      <th></th>\n",
       "      <th>盤面</th>\n",
       "      <th>手番</th>\n",
       "      <th>有効手</th>\n",
       "      <th>白の囲み具合</th>\n",
       "      <th>黒の囲み具合</th>\n",
       "      <th>何石差で終局するか</th>\n",
       "    </tr>\n",
       "  </thead>\n",
       "  <tbody>\n",
       "    <tr>\n",
       "      <th>0</th>\n",
       "      <td>...........................10......01............</td>\n",
       "      <td>0</td>\n",
       "      <td>4</td>\n",
       "      <td>10</td>\n",
       "      <td>10</td>\n",
       "      <td>2</td>\n",
       "    </tr>\n",
       "    <tr>\n",
       "      <th>1</th>\n",
       "      <td>...........................10......000...........</td>\n",
       "      <td>1</td>\n",
       "      <td>-3</td>\n",
       "      <td>19</td>\n",
       "      <td>5</td>\n",
       "      <td>2</td>\n",
       "    </tr>\n",
       "    <tr>\n",
       "      <th>2</th>\n",
       "      <td>...........................10......100.....1.....</td>\n",
       "      <td>0</td>\n",
       "      <td>5</td>\n",
       "      <td>13</td>\n",
       "      <td>15</td>\n",
       "      <td>2</td>\n",
       "    </tr>\n",
       "    <tr>\n",
       "      <th>3</th>\n",
       "      <td>..................0........00......100.....1.....</td>\n",
       "      <td>1</td>\n",
       "      <td>-4</td>\n",
       "      <td>24</td>\n",
       "      <td>10</td>\n",
       "      <td>2</td>\n",
       "    </tr>\n",
       "    <tr>\n",
       "      <th>4</th>\n",
       "      <td>..................01.......10......100.....1.....</td>\n",
       "      <td>0</td>\n",
       "      <td>6</td>\n",
       "      <td>18</td>\n",
       "      <td>18</td>\n",
       "      <td>2</td>\n",
       "    </tr>\n",
       "    <tr>\n",
       "      <th>...</th>\n",
       "      <td>...</td>\n",
       "      <td>...</td>\n",
       "      <td>...</td>\n",
       "      <td>...</td>\n",
       "      <td>...</td>\n",
       "      <td>...</td>\n",
       "    </tr>\n",
       "    <tr>\n",
       "      <th>1199041</th>\n",
       "      <td>000000010011111100001110000011000011000.011110...</td>\n",
       "      <td>1</td>\n",
       "      <td>-5</td>\n",
       "      <td>14</td>\n",
       "      <td>3</td>\n",
       "      <td>4</td>\n",
       "    </tr>\n",
       "    <tr>\n",
       "      <th>1199042</th>\n",
       "      <td>000000010011111100001110000011000011000.011110...</td>\n",
       "      <td>0</td>\n",
       "      <td>0</td>\n",
       "      <td>11</td>\n",
       "      <td>1</td>\n",
       "      <td>4</td>\n",
       "    </tr>\n",
       "    <tr>\n",
       "      <th>1199043</th>\n",
       "      <td>0000000100111111000011110000111100111111011110...</td>\n",
       "      <td>0</td>\n",
       "      <td>2</td>\n",
       "      <td>5</td>\n",
       "      <td>6</td>\n",
       "      <td>4</td>\n",
       "    </tr>\n",
       "    <tr>\n",
       "      <th>1199044</th>\n",
       "      <td>0000000100101111000001110000101100111101011110...</td>\n",
       "      <td>1</td>\n",
       "      <td>-2</td>\n",
       "      <td>7</td>\n",
       "      <td>3</td>\n",
       "      <td>4</td>\n",
       "    </tr>\n",
       "    <tr>\n",
       "      <th>1199045</th>\n",
       "      <td>0000000100101111000001110000101100111101011110...</td>\n",
       "      <td>0</td>\n",
       "      <td>1</td>\n",
       "      <td>2</td>\n",
       "      <td>6</td>\n",
       "      <td>4</td>\n",
       "    </tr>\n",
       "  </tbody>\n",
       "</table>\n",
       "<p>1199046 rows × 6 columns</p>\n",
       "</div>"
      ],
      "text/plain": [
       "                                                        盤面  手番  有効手  白の囲み具合  \\\n",
       "0        ...........................10......01............   0    4      10   \n",
       "1        ...........................10......000...........   1   -3      19   \n",
       "2        ...........................10......100.....1.....   0    5      13   \n",
       "3        ..................0........00......100.....1.....   1   -4      24   \n",
       "4        ..................01.......10......100.....1.....   0    6      18   \n",
       "...                                                    ...  ..  ...     ...   \n",
       "1199041  000000010011111100001110000011000011000.011110...   1   -5      14   \n",
       "1199042  000000010011111100001110000011000011000.011110...   0    0      11   \n",
       "1199043  0000000100111111000011110000111100111111011110...   0    2       5   \n",
       "1199044  0000000100101111000001110000101100111101011110...   1   -2       7   \n",
       "1199045  0000000100101111000001110000101100111101011110...   0    1       2   \n",
       "\n",
       "         黒の囲み具合  何石差で終局するか  \n",
       "0            10          2  \n",
       "1             5          2  \n",
       "2            15          2  \n",
       "3            10          2  \n",
       "4            18          2  \n",
       "...         ...        ...  \n",
       "1199041       3          4  \n",
       "1199042       1          4  \n",
       "1199043       6          4  \n",
       "1199044       3          4  \n",
       "1199045       6          4  \n",
       "\n",
       "[1199046 rows x 6 columns]"
      ]
     },
     "execution_count": 4,
     "metadata": {},
     "output_type": "execute_result"
    }
   ],
   "source": [
    "df = pd.DataFrame(data, columns=[\"盤面\", \"手番\", \"有効手\", \"白の囲み具合\", \"黒の囲み具合\", \"何石差で終局するか\"])\n",
    "df"
   ]
  },
  {
   "cell_type": "markdown",
   "id": "5667ef9e-c4d8-4643-9373-607b1c1b00ed",
   "metadata": {},
   "source": [
    "データセットを見ると、まず盤面の情報が、`空きマスが'.'`、`白石が'0'`、`黒石が'1'`で表現されていることがわかります。  \n",
    "次に、今石を置くプレイヤーが誰なのかを示す手番の情報があり、また置ける場所の有効手の情報も含まれていそうです。  \n",
    "その後は、白と黒がそれぞれ相手をどれくらい囲んでいるかの情報と、最終的に終局まで対戦した時に、何石差で終局するかのデータがあります。  \n",
    "データから、<font color=\"red\">最後以外のデータが、AIを学習するために使えるデータセットで、  \n",
    "最後のデータはゲームの結果なので、今回のAIが学習する答えとなるラベル</font>になります。  \n",
    "また、最後の石の数を予測するということで、このAIは、  \n",
    "<font color=\"red\">ある盤面でAIが試合状況の優劣を予測する</font>(=評価値を作る)ということになります。"
   ]
  },
  {
   "cell_type": "markdown",
   "id": "fdf671b6-45bc-42ad-9067-a30ad575ca92",
   "metadata": {
    "tags": []
   },
   "source": [
    "# データセットを学習データとテストデータに分割\n",
    "1日目にやったように、AIを学習するためには、学習データとテストデータが必要です。  \n",
    "そのため、先ほど確認したデータを、学習データとテストデータに分割します。  \n",
    "データの変換に時間がかかるので、今回はデータの変換を行ったトレインデータとテストデータを持ってくることとします。  \n",
    "また、データの前処理を行なっていくつか特徴量を追加しています。"
   ]
  },
  {
   "cell_type": "code",
   "execution_count": 5,
   "id": "d96c2cdf-a0b2-49c7-8634-966f02506865",
   "metadata": {
    "tags": []
   },
   "outputs": [],
   "source": [
    "f = open('reversi_dataset/train_data.txt', 'rb')\n",
    "train_data = pickle.load(f)"
   ]
  },
  {
   "cell_type": "code",
   "execution_count": 6,
   "id": "de951475-0a7e-4652-bae6-eb55db706db8",
   "metadata": {
    "tags": []
   },
   "outputs": [],
   "source": [
    "f = open('reversi_dataset/train_labels.txt', 'rb')\n",
    "train_labels = pickle.load(f)"
   ]
  },
  {
   "cell_type": "code",
   "execution_count": 7,
   "id": "1c1e3377-923f-4138-9904-1f7f8526278b",
   "metadata": {
    "tags": []
   },
   "outputs": [],
   "source": [
    "f = open('reversi_dataset/test_data.txt', 'rb')\n",
    "test_data = pickle.load(f)"
   ]
  },
  {
   "cell_type": "code",
   "execution_count": 8,
   "id": "28cfcb84-2e30-4651-b8a0-a490ea0a2249",
   "metadata": {
    "tags": []
   },
   "outputs": [],
   "source": [
    "f = open('reversi_dataset/test_labels.txt', 'rb')\n",
    "test_labels = pickle.load(f)"
   ]
  },
  {
   "cell_type": "markdown",
   "id": "e2e356e2-f2d1-4cc7-8bc2-2b3fac4209ce",
   "metadata": {
    "tags": []
   },
   "source": [
    "# AIの構築\n",
    "データの用意ができたので、次にAIを構築していきます。  \n",
    "今回は既に少しだけ学習させたモデルがあるので、それをロードしてきます。  \n",
    "また、AIの構成を確認してみましょう。"
   ]
  },
  {
   "cell_type": "code",
   "execution_count": 9,
   "id": "73b947e7-5975-40dc-82ae-128c72533b56",
   "metadata": {
    "tags": []
   },
   "outputs": [
    {
     "name": "stderr",
     "output_type": "stream",
     "text": [
      "2024-01-23 11:23:57.094120: I tensorflow/compiler/xla/stream_executor/cuda/cuda_gpu_executor.cc:995] successful NUMA node read from SysFS had negative value (-1), but there must be at least one NUMA node, so returning NUMA node zero. See more at https://github.com/torvalds/linux/blob/v6.0/Documentation/ABI/testing/sysfs-bus-pci#L344-L355\n",
      "2024-01-23 11:23:57.104761: I tensorflow/compiler/xla/stream_executor/cuda/cuda_gpu_executor.cc:995] successful NUMA node read from SysFS had negative value (-1), but there must be at least one NUMA node, so returning NUMA node zero. See more at https://github.com/torvalds/linux/blob/v6.0/Documentation/ABI/testing/sysfs-bus-pci#L344-L355\n",
      "2024-01-23 11:23:57.107694: I tensorflow/compiler/xla/stream_executor/cuda/cuda_gpu_executor.cc:995] successful NUMA node read from SysFS had negative value (-1), but there must be at least one NUMA node, so returning NUMA node zero. See more at https://github.com/torvalds/linux/blob/v6.0/Documentation/ABI/testing/sysfs-bus-pci#L344-L355\n",
      "2024-01-23 11:23:57.111735: I tensorflow/compiler/xla/stream_executor/cuda/cuda_gpu_executor.cc:995] successful NUMA node read from SysFS had negative value (-1), but there must be at least one NUMA node, so returning NUMA node zero. See more at https://github.com/torvalds/linux/blob/v6.0/Documentation/ABI/testing/sysfs-bus-pci#L344-L355\n",
      "2024-01-23 11:23:57.114576: I tensorflow/compiler/xla/stream_executor/cuda/cuda_gpu_executor.cc:995] successful NUMA node read from SysFS had negative value (-1), but there must be at least one NUMA node, so returning NUMA node zero. See more at https://github.com/torvalds/linux/blob/v6.0/Documentation/ABI/testing/sysfs-bus-pci#L344-L355\n",
      "2024-01-23 11:23:57.117291: I tensorflow/compiler/xla/stream_executor/cuda/cuda_gpu_executor.cc:995] successful NUMA node read from SysFS had negative value (-1), but there must be at least one NUMA node, so returning NUMA node zero. See more at https://github.com/torvalds/linux/blob/v6.0/Documentation/ABI/testing/sysfs-bus-pci#L344-L355\n",
      "2024-01-23 11:23:58.027070: I tensorflow/compiler/xla/stream_executor/cuda/cuda_gpu_executor.cc:995] successful NUMA node read from SysFS had negative value (-1), but there must be at least one NUMA node, so returning NUMA node zero. See more at https://github.com/torvalds/linux/blob/v6.0/Documentation/ABI/testing/sysfs-bus-pci#L344-L355\n",
      "2024-01-23 11:23:58.029051: I tensorflow/compiler/xla/stream_executor/cuda/cuda_gpu_executor.cc:995] successful NUMA node read from SysFS had negative value (-1), but there must be at least one NUMA node, so returning NUMA node zero. See more at https://github.com/torvalds/linux/blob/v6.0/Documentation/ABI/testing/sysfs-bus-pci#L344-L355\n",
      "2024-01-23 11:23:58.030834: I tensorflow/compiler/xla/stream_executor/cuda/cuda_gpu_executor.cc:995] successful NUMA node read from SysFS had negative value (-1), but there must be at least one NUMA node, so returning NUMA node zero. See more at https://github.com/torvalds/linux/blob/v6.0/Documentation/ABI/testing/sysfs-bus-pci#L344-L355\n",
      "2024-01-23 11:23:58.032733: I tensorflow/core/common_runtime/gpu/gpu_device.cc:1639] Created device /job:localhost/replica:0/task:0/device:GPU:0 with 13591 MB memory:  -> device: 0, name: Tesla T4, pci bus id: 0000:00:04.0, compute capability: 7.5\n"
     ]
    },
    {
     "data": {
      "text/html": [
       "<style>.container { width:100% !important; }</style>"
      ],
      "text/plain": [
       "<IPython.core.display.HTML object>"
      ]
     },
     "metadata": {},
     "output_type": "display_data"
    },
    {
     "data": {
      "text/html": [
       "\n",
       "        <div style=\"width:6000px; overflow-x:auto;\">\n",
       "            <img src=\"model.png\" style=\"width:8000px; height:auto;\">\n",
       "        </div>\n",
       "    "
      ],
      "text/plain": [
       "<IPython.core.display.HTML object>"
      ]
     },
     "metadata": {},
     "output_type": "display_data"
    }
   ],
   "source": [
    "model = keras.models.load_model('model/model_1126.h5') # 事前に少し学習させたAIをloadします\n",
    "utils.show_model(model)"
   ]
  },
  {
   "cell_type": "markdown",
   "id": "a3f798a7-4c75-4ecc-ab7c-f358634aff6f",
   "metadata": {},
   "source": [
    "AIが横に長くなっていると思いますが、これは、最初に確認した盤面の情報から、  \n",
    "前処理でたくさんの別の情報を作って、AIに渡しているからです。  \n",
    "なので、実際のAIの複雑さでいうとそこまで複雑ではなく、  \n",
    "1日目にやった`Dense`(ニューラルネットワーク)を基本としたシンプルなモデルだということがわかります。"
   ]
  },
  {
   "cell_type": "markdown",
   "id": "128c21d4-53f4-4b56-aba0-675d4f1b4d56",
   "metadata": {},
   "source": [
    "# AIの学習\n",
    "構築したAIを使用して、データセットで学習を行います。  \n",
    "学習することによって、AIは最後の盤面の石の数を予測します。  \n",
    "これがリバーシAIの、「ある盤面での評価値」として使われることになります。"
   ]
  },
  {
   "cell_type": "code",
   "execution_count": 12,
   "id": "d9d261e1-00cb-4a45-9428-62e618374baa",
   "metadata": {
    "tags": []
   },
   "outputs": [],
   "source": [
    "# csvに学習の進み具合を保存する様にします\n",
    "csv_logger = keras.callbacks.CSVLogger('training.csv', separator=',', append=True)"
   ]
  },
  {
   "cell_type": "code",
   "execution_count": 13,
   "id": "b5d31572-f92b-4881-b42d-431ef75f1b76",
   "metadata": {
    "tags": []
   },
   "outputs": [
    {
     "name": "stderr",
     "output_type": "stream",
     "text": [
      "2024-01-23 11:24:09.756212: I tensorflow/compiler/xla/service/service.cc:168] XLA service 0x56378fb5ef30 initialized for platform CUDA (this does not guarantee that XLA will be used). Devices:\n",
      "2024-01-23 11:24:09.756256: I tensorflow/compiler/xla/service/service.cc:176]   StreamExecutor device (0): Tesla T4, Compute Capability 7.5\n",
      "2024-01-23 11:24:09.763483: I tensorflow/compiler/mlir/tensorflow/utils/dump_mlir_util.cc:255] disabling MLIR crash reproducer, set env var `MLIR_CRASH_REPRODUCER_DIRECTORY` to enable.\n",
      "2024-01-23 11:24:09.946392: I tensorflow/compiler/xla/stream_executor/cuda/cuda_dnn.cc:432] Loaded cuDNN version 8900\n",
      "2024-01-23 11:24:10.065864: I ./tensorflow/compiler/jit/device_compiler.h:186] Compiled cluster using XLA!  This line is logged at most once for the lifetime of the process.\n"
     ]
    },
    {
     "name": "stdout",
     "output_type": "stream",
     "text": [
      "33724/33724 [==============================] - 285s 8ms/step - loss: 0.0162 - mae: 0.0907 - val_loss: 0.0161 - val_mae: 0.0904\n"
     ]
    },
    {
     "data": {
      "text/plain": [
       "<keras.src.callbacks.History at 0x7f543a9694b0>"
      ]
     },
     "execution_count": 13,
     "metadata": {},
     "output_type": "execute_result"
    }
   ],
   "source": [
    "# AIの学習\n",
    "# 大体5分くらいかかります\n",
    "# todo ここまできたら、一旦みんなの進捗状況を確認して、スライドに移れる様にする\n",
    "model.fit(\n",
    "    x=train_data, # 学習のデータを入れます\n",
    "    y=train_labels, # 学習の答えのデータを入れます\n",
    "    epochs=1, # 学習の回数を入れます。今回は1で良いです \n",
    "    validation_data=(test_data, test_labels),  # テスト用のデータと答えを入れます\n",
    "    callbacks=[csv_logger] # 学習の進み具合を保存する様にします\n",
    ")"
   ]
  },
  {
   "cell_type": "markdown",
   "id": "65d312dd-b81c-43a9-8aa2-a2d34aefd61b",
   "metadata": {},
   "source": [
    "### 学習過程の可視化\n",
    "\n",
    "学習が終わったら、学習の進捗をグラフで確認します。"
   ]
  },
  {
   "cell_type": "code",
   "execution_count": 14,
   "id": "d6da4204-d960-4314-b3a2-caa0f142a1fc",
   "metadata": {
    "tags": []
   },
   "outputs": [
    {
     "data": {
      "image/png": "[encoded data removed]",
      "text/plain": [
       "<Figure size 640x480 with 1 Axes>"
      ]
     },
     "metadata": {},
     "output_type": "display_data"
    }
   ],
   "source": [
    "%matplotlib inline\n",
    "\n",
    "df = pd.read_csv('training.csv') # 学習の進み具合の情報が入っているデータを読み込みます\n",
    "df.index += 1 # 順番を0からスタートではなく、1からスタートにします\n",
    "ax = df['loss'].plot(label='学習') # 学習データにおける損失を表示します\n",
    "df['val_loss'].plot(label='テスト') # テストデータにおける損失を表示します\n",
    "ax.set_ylabel('損失')\n",
    "ax.xaxis.set_major_locator(ticker.MultipleLocator(1))\n",
    "plt.legend()\n",
    "plt.show()"
   ]
  },
  {
   "cell_type": "markdown",
   "id": "ea13fbeb-1365-4434-8518-b365a1fff9f2",
   "metadata": {},
   "source": [
    "学習がうまくできてますでしょうか？  \n",
    "学習とテストの損失が、共に下がっていることを確認してみましょう。"
   ]
  },
  {
   "cell_type": "markdown",
   "id": "c69e3508-9992-44b3-87a9-a2e89a501103",
   "metadata": {},
   "source": [
    "## 作成したAIをシミュレーターで動かす\n",
    "学習がうまくできていることができたら、いよいよシュミレーターを動かす準備をしていきます。  \n",
    "まず、AIが認識する盤面の準備をします。  "
   ]
  },
  {
   "cell_type": "code",
   "execution_count": 15,
   "id": "900c93f0-eb63-4884-a52e-51def3d7faa3",
   "metadata": {
    "tags": []
   },
   "outputs": [
    {
     "name": "stdout",
     "output_type": "stream",
     "text": [
      "INFO:tensorflow:Assets written to: /var/tmp/tmp0ito327l/assets\n"
     ]
    },
    {
     "name": "stderr",
     "output_type": "stream",
     "text": [
      "INFO:tensorflow:Assets written to: /var/tmp/tmp0ito327l/assets\n",
      "2024-01-23 11:28:56.782348: W tensorflow/compiler/mlir/lite/python/tf_tfl_flatbuffer_helpers.cc:364] Ignored output_format.\n",
      "2024-01-23 11:28:56.782392: W tensorflow/compiler/mlir/lite/python/tf_tfl_flatbuffer_helpers.cc:367] Ignored drop_control_dependency.\n",
      "2024-01-23 11:28:56.782807: I tensorflow/cc/saved_model/reader.cc:45] Reading SavedModel from: /var/tmp/tmp0ito327l\n",
      "2024-01-23 11:28:56.788524: I tensorflow/cc/saved_model/reader.cc:91] Reading meta graph with tags { serve }\n",
      "2024-01-23 11:28:56.788549: I tensorflow/cc/saved_model/reader.cc:132] Reading SavedModel debug info (if present) from: /var/tmp/tmp0ito327l\n",
      "2024-01-23 11:28:56.799702: I tensorflow/compiler/mlir/mlir_graph_optimization_pass.cc:375] MLIR V1 optimization pass is not enabled\n",
      "2024-01-23 11:28:56.803894: I tensorflow/cc/saved_model/loader.cc:231] Restoring SavedModel bundle.\n",
      "2024-01-23 11:28:56.925424: I tensorflow/cc/saved_model/loader.cc:215] Running initialization op on SavedModel bundle at path: /var/tmp/tmp0ito327l\n",
      "2024-01-23 11:28:56.969941: I tensorflow/cc/saved_model/loader.cc:314] SavedModel load for tags { serve }; Status: success: OK. Took 187133 microseconds.\n",
      "INFO: Created TensorFlow Lite XNNPACK delegate for CPU.\n"
     ]
    }
   ],
   "source": [
    "lmodel = utils.LiteModel.from_keras_model(model) # AIが予測を返す部分を高速化させます\n",
    "ai = utils.LearningAi() # AIを定義します\n",
    "bd = utils.Board() # AI側が認識するボードを定義します\n",
    "bd.board_init() # AI側が認識するボード側の準備をします\n",
    "ai.evaluate_init(bd) # AI側の準備をします"
   ]
  },
  {
   "cell_type": "markdown",
   "id": "582cc759-d25c-44a3-a477-2badc6e5c736",
   "metadata": {},
   "source": [
    "これでAI側の準備は完了しました  \n",
    "次に、評価値を返すクラスを用意します  "
   ]
  },
  {
   "cell_type": "code",
   "execution_count": 16,
   "id": "1752f3ff-c141-4634-8d2c-2f0e1bb78486",
   "metadata": {
    "tags": []
   },
   "outputs": [],
   "source": [
    "import reversi\n",
    "\n",
    "class MyEvaluator(reversi.strategies.common.AbstractEvaluator):\n",
    "    def evaluate(self, color, board, possibility_b, possibility_w):\n",
    "        player = 0 if color == 'black' else 1\n",
    "        board_list = board.get_board_info()\n",
    "        board_str = board.get_board_line_info(player='black', black='0', white='1', empty='.')\n",
    "        score = ai.predict_score(\n",
    "            board_list=board_list, \n",
    "            board_str=board_str, \n",
    "            player=player, \n",
    "            lmodel= lmodel # ここに作ったモデルが入ります\n",
    "        )\n",
    "        return score"
   ]
  },
  {
   "cell_type": "markdown",
   "id": "6f285ec1-861a-45eb-91bc-e61b903b6da9",
   "metadata": {},
   "source": [
    "最後に、次の手を考える手法として、`minimax法`を改良した`Negascout`法を用意します。  \n",
    "そして、置く場所を決める評価値の部分に、今回作成したAIの評価値を返すクラスを登録します。"
   ]
  },
  {
   "cell_type": "code",
   "execution_count": 17,
   "id": "f12169d5-8d5e-49d9-80e3-8ca5c95127e8",
   "metadata": {
    "tags": []
   },
   "outputs": [],
   "source": [
    "# 次の手を読む_Negascout法を用意し、おく場所を決める評価値に、作った学習するAIの評価値を登録します\n",
    "learning_ai_scorer = reversi.strategies._NegaScout(\n",
    "    depth = 6, # 6手先まで読む\n",
    "    evaluator = MyEvaluator()\n",
    ")"
   ]
  },
  {
   "cell_type": "markdown",
   "id": "bde795ce-1a09-4104-ae54-075069454aa3",
   "metadata": {
    "tags": []
   },
   "source": [
    "これで準備が完了しました！  "
   ]
  },
  {
   "cell_type": "markdown",
   "id": "2e55aad9-7621-4951-9041-898732800a06",
   "metadata": {},
   "source": [
    "## シュミレーターでAIと魔王を対戦"
   ]
  },
  {
   "cell_type": "markdown",
   "id": "14c788ca-b732-4de3-b432-76f7235a4772",
   "metadata": {},
   "source": [
    "ではシミュレーターを用いて、AIと魔王を戦わせてみましょう"
   ]
  },
  {
   "cell_type": "code",
   "execution_count": 18,
   "id": "976c08ab-464e-4aed-a903-8da6901f7c7c",
   "metadata": {
    "tags": []
   },
   "outputs": [],
   "source": [
    "# 変数blackに黒石を置くプレイヤーを定義します。(作ったAI)\n",
    "black = reversi.Player(\n",
    "    color = reversi.C.black, # プレイヤーが使う石の色　'C.black'か'C.white'を指定します\n",
    "    name = 'BLACK', # プレイヤー名　ここではBLACKとします。\n",
    "    strategy = learning_ai_scorer # 石を置く戦略(ルール)\n",
    ")"
   ]
  },
  {
   "cell_type": "code",
   "execution_count": 19,
   "id": "b669aa19-c128-4774-a3ae-d7399f247743",
   "metadata": {
    "tags": []
   },
   "outputs": [],
   "source": [
    "# 変数whiteに白石を置くプレイヤーを定義します。(魔王)\n",
    "white = reversi.Player(\n",
    "    color = reversi.C.white, \n",
    "    name = 'WHITE',\n",
    "    strategy = reversi.monsters.Maou() \n",
    ")"
   ]
  },
  {
   "cell_type": "markdown",
   "id": "6c6fc7f1-8acc-4a7d-9232-a1509b01e0d9",
   "metadata": {},
   "source": [
    "===============================================  \n",
    "下記のコードで、魔王との対戦をシミュレートします。  \n",
    "実行は少し時間がかかります。  "
   ]
  },
  {
   "cell_type": "code",
   "execution_count": 20,
   "id": "1e720012-2ccd-4bd7-8545-33d44f978993",
   "metadata": {
    "tags": []
   },
   "outputs": [],
   "source": [
    "# ボードを初期化します\n",
    "board = reversi.BitBoard()\n",
    "\n",
    "# 変数gameにゲームを定義します。\n",
    "game = reversi.game.Game(\n",
    "    black_player = black, \n",
    "    white_player = white, \n",
    "    board = board\n",
    ")\n",
    "\n",
    "# ゲームを開始します。\n",
    "game.play()"
   ]
  },
  {
   "cell_type": "markdown",
   "id": "a21c3206-2fda-4217-b80e-215cae8003dc",
   "metadata": {},
   "source": [
    "下記のコードでバトルの結果を描画します。"
   ]
  },
  {
   "cell_type": "code",
   "execution_count": 21,
   "id": "fcd5b8b3-02a2-47e9-bb88-bc9ee9ba03df",
   "metadata": {
    "tags": []
   },
   "outputs": [
    {
     "name": "stdout",
     "output_type": "stream",
     "text": [
      "   a b c d e f g h\n",
      "1 \u001b[48;2;46;139;87m\u001b[38;2;255;255;255m ●\u001b[0m\u001b[48;2;46;139;87m\u001b[38;2;255;255;255m ●\u001b[0m\u001b[48;2;46;139;87m\u001b[38;2;255;255;255m ●\u001b[0m\u001b[48;2;46;139;87m\u001b[38;2;255;255;255m ●\u001b[0m\u001b[48;2;46;139;87m\u001b[38;2;255;255;255m ●\u001b[0m\u001b[48;2;46;139;87m\u001b[38;2;255;255;255m ●\u001b[0m\u001b[48;2;46;139;87m\u001b[38;2;255;255;255m ●\u001b[0m\u001b[48;2;46;139;87m\u001b[38;2;255;255;255m ●\u001b[48;2;46;139;87m \u001b[0m\n",
      "2 \u001b[48;2;46;139;87m\u001b[38;2;0;0;0m ●\u001b[0m\u001b[48;2;46;139;87m\u001b[38;2;255;255;255m ●\u001b[0m\u001b[48;2;46;139;87m\u001b[38;2;0;0;0m ●\u001b[0m\u001b[48;2;46;139;87m\u001b[38;2;255;255;255m ●\u001b[0m\u001b[48;2;46;139;87m\u001b[38;2;255;255;255m ●\u001b[0m\u001b[48;2;46;139;87m\u001b[38;2;0;0;0m ●\u001b[0m\u001b[48;2;46;139;87m\u001b[38;2;0;0;0m ●\u001b[0m\u001b[48;2;46;139;87m\u001b[38;2;0;0;0m ●\u001b[48;2;46;139;87m \u001b[0m\n",
      "3 \u001b[48;2;46;139;87m\u001b[38;2;0;0;0m ●\u001b[0m\u001b[48;2;46;139;87m\u001b[38;2;0;0;0m ●\u001b[0m\u001b[48;2;46;139;87m\u001b[38;2;255;255;255m ●\u001b[0m\u001b[48;2;46;139;87m\u001b[38;2;255;255;255m ●\u001b[0m\u001b[48;2;46;139;87m\u001b[38;2;255;255;255m ●\u001b[0m\u001b[48;2;46;139;87m\u001b[38;2;0;0;0m ●\u001b[0m\u001b[48;2;46;139;87m\u001b[38;2;0;0;0m ●\u001b[0m\u001b[48;2;46;139;87m\u001b[38;2;0;0;0m ●\u001b[48;2;46;139;87m \u001b[0m\n",
      "4 \u001b[48;2;46;139;87m\u001b[38;2;0;0;0m ●\u001b[0m\u001b[48;2;46;139;87m\u001b[38;2;0;0;0m ●\u001b[0m\u001b[48;2;46;139;87m\u001b[38;2;0;0;0m ●\u001b[0m\u001b[48;2;46;139;87m\u001b[38;2;0;0;0m ●\u001b[0m\u001b[48;2;46;139;87m\u001b[38;2;255;255;255m ●\u001b[0m\u001b[48;2;46;139;87m\u001b[38;2;0;0;0m ●\u001b[0m\u001b[48;2;46;139;87m\u001b[38;2;0;0;0m ●\u001b[0m\u001b[48;2;46;139;87m\u001b[38;2;0;0;0m ●\u001b[48;2;46;139;87m \u001b[0m\n",
      "5 \u001b[48;2;46;139;87m\u001b[38;2;0;0;0m ●\u001b[0m\u001b[48;2;46;139;87m\u001b[38;2;0;0;0m ●\u001b[0m\u001b[48;2;46;139;87m\u001b[38;2;0;0;0m ●\u001b[0m\u001b[48;2;46;139;87m\u001b[38;2;0;0;0m ●\u001b[0m\u001b[48;2;46;139;87m\u001b[38;2;255;255;255m ●\u001b[0m\u001b[48;2;46;139;87m\u001b[38;2;0;0;0m ●\u001b[0m\u001b[48;2;46;139;87m\u001b[38;2;0;0;0m ●\u001b[0m\u001b[48;2;46;139;87m\u001b[38;2;0;0;0m ●\u001b[48;2;46;139;87m \u001b[0m\n",
      "6 \u001b[48;2;46;139;87m\u001b[38;2;255;255;255m ●\u001b[0m\u001b[48;2;46;139;87m\u001b[38;2;255;255;255m ●\u001b[0m\u001b[48;2;46;139;87m\u001b[38;2;255;255;255m ●\u001b[0m\u001b[48;2;46;139;87m\u001b[38;2;0;0;0m ●\u001b[0m\u001b[48;2;46;139;87m\u001b[38;2;255;255;255m ●\u001b[0m\u001b[48;2;46;139;87m\u001b[38;2;0;0;0m ●\u001b[0m\u001b[48;2;46;139;87m\u001b[38;2;0;0;0m ●\u001b[0m\u001b[48;2;46;139;87m\u001b[38;2;0;0;0m ●\u001b[48;2;46;139;87m \u001b[0m\n",
      "7 \u001b[48;2;46;139;87m\u001b[38;2;255;255;255m ●\u001b[0m\u001b[48;2;46;139;87m\u001b[38;2;255;255;255m ●\u001b[0m\u001b[48;2;46;139;87m\u001b[38;2;255;255;255m ●\u001b[0m\u001b[48;2;46;139;87m\u001b[38;2;255;255;255m ●\u001b[0m\u001b[48;2;46;139;87m\u001b[38;2;255;255;255m ●\u001b[0m\u001b[48;2;46;139;87m\u001b[38;2;255;255;255m ●\u001b[0m\u001b[48;2;46;139;87m\u001b[38;2;0;0;0m ●\u001b[0m\u001b[48;2;46;139;87m\u001b[38;2;0;0;0m ●\u001b[48;2;46;139;87m \u001b[0m\n",
      "8 \u001b[48;2;46;139;87m\u001b[38;2;255;255;255m ●\u001b[0m\u001b[48;2;46;139;87m\u001b[38;2;255;255;255m ●\u001b[0m\u001b[48;2;46;139;87m\u001b[38;2;255;255;255m ●\u001b[0m\u001b[48;2;46;139;87m\u001b[38;2;255;255;255m ●\u001b[0m\u001b[48;2;46;139;87m\u001b[38;2;255;255;255m ●\u001b[0m\u001b[48;2;46;139;87m\u001b[38;2;0;0;0m ●\u001b[0m\u001b[48;2;46;139;87m\u001b[38;2;0;0;0m ●\u001b[0m\u001b[48;2;46;139;87m\u001b[38;2;0;0;0m ●\u001b[48;2;46;139;87m \u001b[0m\n",
      "\n",
      "勝者はAIです！\n",
      "プレイヤー BLACKの石の数は33個でした。\n",
      "プレイヤー WHITEの石の数は31個でした。\n"
     ]
    }
   ],
   "source": [
    "# ゲームに関連した情報を出力します。\n",
    "print(board)\n",
    "# game.result.winloseが0の場合はAIが勝利、1の場合は魔王が勝利となります。\n",
    "print(\"勝者は{}です！\".format('AI' if game.result.winlose == 0 else '魔王'))\n",
    "# 黒石を扱うプレイヤーの名前と、石の数を出力します。\n",
    "print(\"プレイヤー {}の石の数は{}個でした。\".format(game.result.black_name, game.result.black_num))\n",
    "# 白石を扱うプレイヤーの名前と、石の数を出力します。\n",
    "print(\"プレイヤー {}の石の数は{}個でした。\".format(game.result.white_name, game.result.white_num))"
   ]
  },
  {
   "cell_type": "markdown",
   "id": "766fe653-d291-4b01-ac11-d75313582517",
   "metadata": {},
   "source": [
    "`勝者はAIです！`になりましたか？  \n",
    "もし負けてしまっていたら、もう一度、2つ上のセルである `ボードを初期化します`  \n",
    "のコードからやり直してください。  \n",
    "===============================================  "
   ]
  },
  {
   "cell_type": "markdown",
   "id": "14ded862-1de3-4b6a-b9dc-482224f21f51",
   "metadata": {
    "tags": []
   },
   "source": [
    "勝利できたら、成功です！  \n",
    "シミュレーション環境で、魔王を倒すAIを作ることができました。  \n",
    "このAIにアシストしてもらえれば、本物の魔王も倒せるはずです。  \n",
    "実際の`リバーシアドベンチャー`でAIのレコメンドができるようにしましょう。  \n",
    "シミュレーターで魔王を倒した証を示すと、隠しコマンドを取得することができます。  \n",
    "メニュー画面で隠しコマンドを入力して、AIを仲間にしましょう！"
   ]
  },
  {
   "cell_type": "code",
   "execution_count": 23,
   "id": "eb65aa97-942a-40d0-a36a-3519c334c5bb",
   "metadata": {
    "tags": []
   },
   "outputs": [
    {
     "data": {
      "text/plain": [
       "'隠しコマンドは`3941`です！'"
      ]
     },
     "execution_count": 23,
     "metadata": {},
     "output_type": "execute_result"
    }
   ],
   "source": [
    "utils.get_command(game.result.winlose)"
   ]
  },
  {
   "cell_type": "code",
   "execution_count": null,
   "id": "6a662d22-69c1-4b2c-95c2-c40336b983c4",
   "metadata": {},
   "outputs": [],
   "source": []
  }
 ],
 "metadata": {
  "environment": {
   "kernel": "python3",
   "name": "tf2-gpu.2-13.m113",
   "type": "gcloud",
   "uri": "gcr.io/deeplearning-platform-release/tf2-gpu.2-13:m113"
  },
  "kernelspec": {
   "display_name": "Python 3",
   "language": "python",
   "name": "python3"
  },
  "language_info": {
   "codemirror_mode": {
    "name": "ipython",
    "version": 3
   },
   "file_extension": ".py",
   "mimetype": "text/x-python",
   "name": "python",
   "nbconvert_exporter": "python",
   "pygments_lexer": "ipython3",
   "version": "3.10.13"
  }
 },
 "nbformat": 4,
 "nbformat_minor": 5
}

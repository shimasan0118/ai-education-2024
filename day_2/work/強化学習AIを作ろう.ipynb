{
 "cells": [
  {
   "cell_type": "markdown",
   "id": "be778408-fca0-4713-8ad8-a839078861c8",
   "metadata": {
    "tags": []
   },
   "source": [
    "<h1 style=\"display: inline-block; margin-right: -30px;\">強化学習AIを作ろう</h1>\n",
    "<img src=\"img/magician.png\" style=\"display: inline-block; vertical-align: middle; width: 80px; height: auto;\" />"
   ]
  },
  {
   "cell_type": "markdown",
   "id": "fa76998f-3e09-4f8f-bb72-35bd93e6174d",
   "metadata": {},
   "source": [
    "このワークでは、オリジナルの学習環境と、その環境内で、試行錯誤してゲームをクリアするAIを構築します。  \n",
    "環境の確認から始め、Q-tableの表示、AIの学習、そしてGradioを用いたゲームの作成までを行います。"
   ]
  },
  {
   "cell_type": "markdown",
   "id": "3c63cda2-9742-4311-a368-75d48fd2e92a",
   "metadata": {},
   "source": [
    "## 目次\n",
    "- 必要なライブラリのインポート\n",
    "- 学習環境(Environment)の確認\n",
    "- Q-Tableの確認\n",
    "- ランダムAIの作成\n",
    "- 強化学習AIの学習と作成\n",
    "- 【応用】強化学習ゲームを作成"
   ]
  },
  {
   "cell_type": "markdown",
   "id": "47ac2fa3-5c89-4b40-bfaa-4cf16b9e5cc1",
   "metadata": {
    "tags": []
   },
   "source": [
    "# 必要なライブラリをインストールします\n",
    "! pip install onnxruntime\n",
    "! pip install torch\n",
    "! pip install japanize_matplotlib\n",
    "! pip install gradio==3.50.0\n",
    "! pip install pydot\n",
    "! pip install typing_extensions\n",
    "! pip install sqlalchemy\n",
    "! pip install pymysql\n",
    "! pip install google-cloud-storage## 必要なライブラリのインポートや準備\n",
    "まず、今回の学習モデルに必要なライブラリのインポートをしていきましょう"
   ]
  },
  {
   "cell_type": "code",
   "execution_count": null,
   "id": "f2b30602-94fd-4e56-97dd-db649316fdad",
   "metadata": {
    "tags": []
   },
   "outputs": [],
   "source": [
    "from utils import cloud_glider as cg  # ユーティリティライブラリから強化学習をするのに必要なものをインポート\n",
    "from IPython.display import HTML #　環境のアニメーションを表示するために必要なモジュールをインポート"
   ]
  },
  {
   "cell_type": "markdown",
   "id": "62556743-9021-4105-8850-0f4fc317458c",
   "metadata": {},
   "source": [
    "インポートができたら、強化学習を行うのに必要なクラスを定義していきます。  \n",
    "今回必要なのは、エージェント(AI)の意思決定を行う`Brain`クラスと、動かすAIとなる`Agent`クラス、  \n",
    "そして今回学習する環境となる`Environment`クラスなので、この3つを用意していきましょう。"
   ]
  },
  {
   "cell_type": "code",
   "execution_count": null,
   "id": "a07113d9-4644-4535-9f64-1456117f5456",
   "metadata": {
    "tags": []
   },
   "outputs": [],
   "source": [
    "# エージェント(AI)をコントロールするBrainクラスを定義\n",
    "brain = cg.Brain()"
   ]
  },
  {
   "cell_type": "code",
   "execution_count": null,
   "id": "e3f28b02-65a2-4181-8cd2-2111683d9286",
   "metadata": {
    "tags": []
   },
   "outputs": [],
   "source": [
    "# エージェントを定義\n",
    "agent = cg.Agent(brain) # 引数に、ひとつ前で定義したbrainを渡します"
   ]
  },
  {
   "cell_type": "code",
   "execution_count": null,
   "id": "4d0215d3-4433-44e9-8ac6-6a33226d03c3",
   "metadata": {
    "tags": []
   },
   "outputs": [],
   "source": [
    "# 環境を定義\n",
    "# 引数に、ひとつ前で定義したagentを定義し、num_obstraclesに環境に存在する障害物の数を定義します。\n",
    "env = cg.Environment(agent=agent, num_obstacles=1) "
   ]
  },
  {
   "cell_type": "markdown",
   "id": "6ec775f6-df6c-4d02-82f9-b61af6e926dd",
   "metadata": {},
   "source": [
    "これで準備は完了です。"
   ]
  },
  {
   "cell_type": "markdown",
   "id": "7c534c6d-af39-4b26-bf14-69218ae20d3e",
   "metadata": {
    "tags": []
   },
   "source": [
    "<hr style=\"border-top: 2px solid #71EB8B;\">"
   ]
  },
  {
   "cell_type": "markdown",
   "id": "88c325da-b4cc-4d6d-98fb-c0abb8c507ce",
   "metadata": {},
   "source": [
    "## 学習環境(Environment)の確認"
   ]
  },
  {
   "cell_type": "markdown",
   "id": "ca46c404-1935-4f57-87fd-153a348935a6",
   "metadata": {},
   "source": [
    "では、まず今回強化学習AIに学習してもらう環境を確認してみましょう。  \n",
    "環境を確認するには、先ほどインポートしたcloud_gliderモジュールの省略、`cg`から`show_env_animation`を呼び出し、  \n",
    "引数に先ほど定義したenvクラスと、今回は環境を確認したいだけなので、framesに0を指定します。  \n",
    "こうすることによって、学習する環境の初期状態の画像を取得することができます。"
   ]
  },
  {
   "cell_type": "code",
   "execution_count": null,
   "id": "c964e1b1-65fd-42e1-bb4d-14fa2ab7fcc7",
   "metadata": {
    "tags": []
   },
   "outputs": [],
   "source": [
    "# 環境の初期状態を表示\n",
    "cg.show_env_animation(env, frames=0)"
   ]
  },
  {
   "cell_type": "markdown",
   "id": "45f877bb-c7aa-463e-b3b6-a76cf399fd7b",
   "metadata": {},
   "source": [
    "<hr style=\"border-top: 2px solid #71EB8B;\">"
   ]
  },
  {
   "cell_type": "markdown",
   "id": "32cde044-ae14-49e4-9da8-8744b37d7d4d",
   "metadata": {
    "tags": []
   },
   "source": [
    "## Q-Tableの確認\n",
    "次に、今回の環境を表している`Q-Table`の確認を行いましょう。  \n",
    "講義パートで説明したように、`Q-Learning`という手法で強化学習AIを作成する場合、`Q-Table`を作る必要があります。  \n",
    "エージェント(AI)は学習して報酬を得ていくことによって、この`Q-Table`の値、つまり`Q値`を更新していきます。  \n",
    "では`Q-Table`を確認するために、先ほど用意した変数`brain`の`show_q_table`メソッドを呼び出してみましょう。"
   ]
  },
  {
   "cell_type": "code",
   "execution_count": null,
   "id": "69fd202a-f9ca-4ebb-b39f-33bcdedb319d",
   "metadata": {
    "tags": []
   },
   "outputs": [],
   "source": [
    "# Q-Tableを確認\n",
    "brain.show_q_table()"
   ]
  },
  {
   "cell_type": "markdown",
   "id": "5fa00e26-dba1-4071-9c54-abcb6b59576c",
   "metadata": {},
   "source": [
    "`Q-Table`の状態が`s1~s400`の`400個`あり、行動が`a1`と`a2`の`２つ`あるのが確認できるでしょうか？  \n",
    "行動が2つあるのは、講義の時のゲーム環境の説明であったように、このAIは`何もしない`という行動と、`ジャンプする`の二つの行動ができるためです。  \n",
    "状態が400個あるのは、AIの垂直方向の位置と現在持っている速度を、値からそれぞれ`1~20`の値のグループに分割しているからです。  \n",
    "垂直方向の位置のグループ20個と速度のグループ20個の組み合わせで、`20 × 20 = 400` の状態を作っています。  \n",
    "<span style=\"color:#E5004C\"> **ここで大事なのは、`Q-Learning`をするためには、このように環境の全ての状態と行動を表した`Q-Table`を作る必要があるということです。** </span>  \n",
    "また、`Q-Table`に入っているそれぞれの値は、0で初期化されています。  \n",
    "この値を、学習して報酬を得ることによって、調整していきます。  \n",
    "では、いよいよAIにこの環境をプレイさせてみましょう。"
   ]
  },
  {
   "cell_type": "markdown",
   "id": "0f91df84-7a5c-4264-9eca-dd242d3f6e6a",
   "metadata": {},
   "source": [
    "<hr style=\"border-top: 2px solid #71EB8B;\">"
   ]
  },
  {
   "cell_type": "markdown",
   "id": "0ca40dcb-79a0-41ab-8e4f-0fc92f31ad73",
   "metadata": {
    "tags": []
   },
   "source": [
    "## ランダムAIの作成\n",
    "`Q-Table`の確認が終わったので、用意した環境にAIをプレイさせてみましょう。  \n",
    "まずは、学習しないで、ランダムで、`何もしない`行動か`ジャンプする`行動かのどれかをとり続けるAIを作成して遊ばせてみます。  \n",
    "定義したライブラリの`cg`にある`create_animation`を呼び出し、引数に、学習する環境の動画の時間である90秒と、作った環境の`env`、  \n",
    "そして、今回はランダムで行動するため、`random=True`を定義して実行してみます。"
   ]
  },
  {
   "cell_type": "code",
   "execution_count": null,
   "id": "3f1567c6-4d84-4564-8a07-6781bea5e47f",
   "metadata": {
    "tags": []
   },
   "outputs": [],
   "source": [
    "#　ランダムAIでゲームをプレイ\n",
    "anim = cg.create_animation(max_time_input=90, env=env, random=True)\n",
    "HTML(anim.to_html5_video())"
   ]
  },
  {
   "cell_type": "markdown",
   "id": "b1353e2e-5b8c-47b8-9dff-4543a51c5884",
   "metadata": {},
   "source": [
    "どうでしょうか？  AIは一度でもゴールに辿り着くことができたでしょうか？  \n",
    "完全ランダムなので、運が良ければ辿り着くかもしれませんが、行動に一貫性がなく、ほとんどのパターンでうまくいかないと思います。"
   ]
  },
  {
   "cell_type": "markdown",
   "id": "d7c09c73-1e93-4bd1-93cf-63d677fe9398",
   "metadata": {},
   "source": [
    "<hr style=\"border-top: 2px solid #71EB8B;\">"
   ]
  },
  {
   "cell_type": "markdown",
   "id": "3b5f707c-04db-463a-a674-7408deaa287c",
   "metadata": {
    "tags": []
   },
   "source": [
    "## 強化学習AIの学習と作成\n",
    "ランダムAIの動作が確認できたので、最後に強化学習AIを作成して、動作を比較してみましょう。  \n",
    "先ほどと同じように`create_animation`を呼び出し、引数の`random`のところを`random=False`に修正すれば、  \n",
    "強化学習AIが学習しながら環境をプレイしてくれます。"
   ]
  },
  {
   "cell_type": "code",
   "execution_count": null,
   "id": "e49227e5-debb-4410-ab04-260f413f8b3e",
   "metadata": {
    "tags": []
   },
   "outputs": [],
   "source": [
    "#　強化学習AIでゲームをプレイ\n",
    "anim = cg.create_animation(max_time_input=90, env=env)\n",
    "HTML(anim.to_html5_video())"
   ]
  },
  {
   "cell_type": "markdown",
   "id": "e42de0a0-de40-4933-a1ff-5604dac4cbf7",
   "metadata": {
    "tags": []
   },
   "source": [
    "ランダムAIと比較してどうでしょうか？  \n",
    "後半になっていくほど、AIがゴールに近づいて、後半にはゴールできるようになっているでしょうか？  \n",
    "また、中盤くらいで一度ゴールできると、ゴールの報酬がもらえるので、それ以降はゴールしやすくなります。  \n",
    "また、今回は1分30秒くらいの動画なのでそこまでうまくはいかないことが多いですが、ゲームの攻略法を理解すると、  \n",
    "その通りに強化学習AIがプレイしてくれるようになったりします。  "
   ]
  },
  {
   "cell_type": "markdown",
   "id": "8431b5a6-7c11-4b29-a975-dfeecdff1bb6",
   "metadata": {},
   "source": [
    "<hr style=\"border-top: 2px solid #71EB8B;\">"
   ]
  },
  {
   "cell_type": "markdown",
   "id": "192ab83c-466a-4016-938e-f2fc69fb7234",
   "metadata": {},
   "source": [
    "## 【応用】強化学習ゲームの作成\n",
    "\n",
    "最後に、Gradioを使用して、先ほどの環境の状態を色々試してプレイできるゲームを作成します。  \n",
    "下記のコードを実行したら、`Running on public URL`の右側にあるリンクをクリックしてみてください。   \n",
    "障害物と学習する時間を増やすことができ、それによってスコアがもらえるので、より難しい環境をクリアするAIを作って、  \n",
    "高スコアを狙ってみましょう！"
   ]
  },
  {
   "cell_type": "code",
   "execution_count": null,
   "id": "93acef04-489c-4e6f-ae0d-0cd6b7e6469c",
   "metadata": {
    "tags": []
   },
   "outputs": [],
   "source": [
    "import gradio as gr\n",
    "\n",
    "with gr.Blocks(theme=gr.themes.Soft()) as app:\n",
    "    state = gr.State({\n",
    "        \"env\": None\n",
    "    })\n",
    "    \n",
    "    # ゲームのタイトルと説明\n",
    "    gr.Markdown(\"<div style='text-align: center;'><h1>クラウドグライダー</h1><h3>障害物を避けながらゴールを目指そう</h3></div>\")\n",
    "    \n",
    "    with gr.Row():\n",
    "        with gr.Column(scale=5):\n",
    "            user_name = gr.Textbox(label=\"ユーザー名\", placeholder=\"ユーザー名を入力\")\n",
    "            max_time_input = gr.Number(label=\"学習時間(秒)\", value=90)\n",
    "            num_obstacles_input = gr.Number(label=\"障害物の数\", value=0)\n",
    "            desc_output = gr.Textbox(label=\"説明\", value=\"「ユーザー名」に名前を入力して「開始」ボタンを押してください。\", interactive=False)\n",
    "            with gr.Row():\n",
    "                start_button = gr.Button(\"開始\", variant=\"primary\")\n",
    "                clear_button = gr.Button(\"クリア\")\n",
    "            progress_textbox = gr.Textbox(label=\"進行状況\", lines=13, max_lines=13, interactive=False)\n",
    "        with gr.Column(scale=5):\n",
    "            animation_output = gr.Video(label=\"ビデオ\", height=540)\n",
    "            score_board = gr.Textbox(label=\"スコアボード\", lines=8, max_lines=8, interactive=False)\n",
    "            \n",
    "    start_button.click(fn=cg.create_animation_in_gr, inputs=[max_time_input, state, num_obstacles_input, user_name, animation_output], outputs=[animation_output, desc_output])\n",
    "    clear_button.click(fn=cg.clear_user_name, outputs=[user_name, desc_output])\n",
    "    animation_output.change(fn=cg.update_result, inputs=[state, user_name, score_board], outputs=[desc_output, score_board, progress_textbox])\n",
    "\n",
    "app.queue().launch(share=True)"
   ]
  },
  {
   "cell_type": "code",
   "execution_count": null,
   "id": "59292566-b9c9-4415-bfcb-a656c4a6f4ee",
   "metadata": {},
   "outputs": [],
   "source": []
  }
 ],
 "metadata": {
  "environment": {
   "kernel": "python3",
   "name": "tf2-gpu.2-13.m113",
   "type": "gcloud",
   "uri": "gcr.io/deeplearning-platform-release/tf2-gpu.2-13:m113"
  },
  "kernelspec": {
   "display_name": "conda_tensorflow2_p310",
   "language": "python",
   "name": "conda_tensorflow2_p310"
  },
  "language_info": {
   "codemirror_mode": {
    "name": "ipython",
    "version": 3
   },
   "file_extension": ".py",
   "mimetype": "text/x-python",
   "name": "python",
   "nbconvert_exporter": "python",
   "pygments_lexer": "ipython3",
   "version": "3.10.13"
  }
 },
 "nbformat": 4,
 "nbformat_minor": 5
}

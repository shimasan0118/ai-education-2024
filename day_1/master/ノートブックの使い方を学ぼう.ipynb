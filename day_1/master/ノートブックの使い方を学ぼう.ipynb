{
 "cells": [
  {
   "cell_type": "markdown",
   "id": "44b94b3e-5ec2-4bee-876a-868734bc093d",
   "metadata": {},
   "source": [
    "<h1 style=\"display: inline-block; margin-right: -30px;\">ノートブックの使い方を学ぼう</h1>\n",
    "<img src=\"img/magician.png\" style=\"display: inline-block; vertical-align: middle; width: 80px; height: auto;\" />"
   ]
  },
  {
   "cell_type": "markdown",
   "id": "83763a49-f823-41ed-9d46-db9783b4d9c1",
   "metadata": {},
   "source": [
    "Jupyter Notebookは、コードの実行を一つの場所で行える強力なツールです。  \n",
    "このノートブックでは、Jupyter Notebookの基本的な使い方を学びます。\n",
    "\n",
    "## 目次\n",
    "1. ノートブックの実行方法\n",
    "2. セルの追加方法\n",
    "3. 基本的なコードの実行方法\n",
    "4. ノートブックの状態について\n",
    "5. 変数の共有と上書き"
   ]
  },
  {
   "cell_type": "markdown",
   "id": "0f4c0696-e5a9-4a20-b90c-9bed3d9bcccd",
   "metadata": {
    "tags": []
   },
   "source": [
    "## 1. ノートブックの実行方法\n",
    "Jupyter Notebookでは、1つ1つのコードや説明がセルの中に収まっています。  \n",
    "実際に、このエリア(セル)をクリックしてみてください。  \n",
    "すると、左側にこのセルに注目していることを示す、青い棒が出るかと思います。  \n",
    "この状態で、`｢SHIFT + ENTER｣ (SHIFTを押しながらENTER)`を押すことでセルを実行することができます。  \n",
    "このセルに青い棒がある状態で`｢SHIFT + ENTER｣`を試して、青い棒が一つ下に移動することを確認してみてください。"
   ]
  },
  {
   "cell_type": "markdown",
   "id": "f7bf7c0b-6f83-42df-9d4a-cc897776432d",
   "metadata": {
    "tags": []
   },
   "source": [
    "## 2. セルの追加方法\n",
    "\n",
    "Jupyter Notebookでは、「+」ボタンをクリックするか、キーボードショートカットを使用して新しいセルを追加できます。  \n",
    "練習として、一個下のセルに注目している状態で「+」ボタンをクリックして以下のセルの下に新しいコードセルを追加してみましょう。"
   ]
  },
  {
   "cell_type": "code",
   "execution_count": 9,
   "id": "e876a3e8-5a1c-4fce-8fc5-d6bbe8c13865",
   "metadata": {
    "tags": []
   },
   "outputs": [],
   "source": [
    "## このセルに注目している状態で、「+」ボタンをクリックしてセルを追加したあと、\n",
    "## そのセルの中で簡単な計算式を書いて、｢SHIFT + ENTER｣で実行してみましょう。\n",
    "# 例: 3 * 4"
   ]
  },
  {
   "cell_type": "markdown",
   "id": "d1df8b95-bf9f-41c7-b233-cada62b422d3",
   "metadata": {},
   "source": [
    "## 3. 基本的なコードの実行\n",
    "\n",
    "Jupyter Notebookでは、セルに書かれたコードを実行して結果を確認することができます。  \n",
    "以下のセルには、Pythonの `random` ライブラリを使用した例があります。  \n",
    "このセルを何度も実行して、結果が毎回変わることを確認してみましょう。"
   ]
  },
  {
   "cell_type": "code",
   "execution_count": 13,
   "id": "df07b000-021c-4e15-9c52-4cbd872fe1a3",
   "metadata": {
    "tags": []
   },
   "outputs": [
    {
     "name": "stdout",
     "output_type": "stream",
     "text": [
      "生成された数: 10\n"
     ]
    }
   ],
   "source": [
    "import random  # ランダムライブラリを読み込みます\n",
    "\n",
    "# ランダムな数を生成します（例えば1から10の範囲）\n",
    "random_number = random.randint(1, 10)\n",
    "\n",
    "# 出力した値をprintします\n",
    "print(\"生成された数:\", random_number)"
   ]
  },
  {
   "cell_type": "markdown",
   "id": "5707a606-434e-4317-af5c-8da158cbfa88",
   "metadata": {
    "tags": []
   },
   "source": [
    "## 4. ノートブックの状態について\n",
    "\n",
    "Jupyter Notebookでは、コードの実行中はセルの左側にある記号が`[*]`に変わります。  \n",
    "これはそのセルが`「実行中（pending）」`であることを意味します。  \n",
    "特に、実行に時間がかかるコードの場合、この状態が明確に確認できます。  \n",
    "以下のセルでは、Pythonの `time` モジュールを使用して実行時間を数秒間延長します。  \n",
    "実行して、状態を観察してみましょう。"
   ]
  },
  {
   "cell_type": "code",
   "execution_count": 15,
   "id": "234d32b5-9ed3-49d7-8776-38038493948a",
   "metadata": {
    "tags": []
   },
   "outputs": [
    {
     "name": "stdout",
     "output_type": "stream",
     "text": [
      "実行を開始します。\n",
      "実行が終了しました。\n"
     ]
    }
   ],
   "source": [
    "import time\n",
    "\n",
    "# このセルの実行中に、左側の記号が[*]に変わることを確認してください\n",
    "print(\"実行を開始します。\")\n",
    "time.sleep(5) # 5秒間待機\n",
    "print(\"実行が終了しました。\")"
   ]
  },
  {
   "cell_type": "markdown",
   "id": "045740dc-e262-45b6-a2b0-f13410dbaf38",
   "metadata": {},
   "source": [
    "## 5. 変数の共有と上書き\n",
    "\n",
    "Jupyter Notebookでは、一度定義した変数はノートブック内の他のセルでも利用できます。  \n",
    "これにより、データや結果を複数のセルにわたって簡単に共有できます。  \n",
    "しかし、同じ名前の変数に別の値を入れると、変数の値は上書きされるので注意が必要です。"
   ]
  },
  {
   "cell_type": "markdown",
   "id": "09aaf739-da47-4527-8133-0432da505366",
   "metadata": {},
   "source": [
    "### 変数の共有\n",
    "下のセルで変数を定義し、次のセルでその変数を使用してみましょう。  "
   ]
  },
  {
   "cell_type": "code",
   "execution_count": 22,
   "id": "1281ecbf-8ce2-4ec3-a68f-e6adc9488526",
   "metadata": {
    "tags": []
   },
   "outputs": [],
   "source": [
    "# このセルで変数を定義します\n",
    "message = \"こんにちは、Jupyter!\""
   ]
  },
  {
   "cell_type": "code",
   "execution_count": 23,
   "id": "c6595c1f-78dd-4a41-aa5c-967c79d655f6",
   "metadata": {
    "tags": []
   },
   "outputs": [
    {
     "name": "stdout",
     "output_type": "stream",
     "text": [
      "こんにちは、Jupyter!\n"
     ]
    }
   ],
   "source": [
    "# message変数を確認してみましょう\n",
    "print(message)"
   ]
  },
  {
   "cell_type": "markdown",
   "id": "d7aaca78-eade-4227-992e-327779630c5d",
   "metadata": {},
   "source": [
    "### 変数の上書き\n",
    "変数の値を確認できたら、変数に違う値を入れて上書きされるか確認しましょう。"
   ]
  },
  {
   "cell_type": "code",
   "execution_count": 24,
   "id": "f8598329-1002-4a78-bf29-7ba12b00709a",
   "metadata": {
    "tags": []
   },
   "outputs": [],
   "source": [
    "# messageの値を更新します。\n",
    "message = \"こんばんは　Jupyter!\""
   ]
  },
  {
   "cell_type": "code",
   "execution_count": 25,
   "id": "ed6cb07d-03bd-4e75-94d4-51562cab1c93",
   "metadata": {
    "tags": []
   },
   "outputs": [
    {
     "name": "stdout",
     "output_type": "stream",
     "text": [
      "こんばんは　Jupyter!\n"
     ]
    }
   ],
   "source": [
    "# message変数を確認してみましょう\n",
    "print(message)"
   ]
  },
  {
   "cell_type": "markdown",
   "id": "1f7d94f5-9b07-4823-bfa6-a8532be23d2f",
   "metadata": {},
   "source": [
    "変数が上書きされたことによって、出力された値が変わったことが確認できたでしょうか？  \n",
    "以上で、ノートブックの基本的な使い方は終了です。  \n",
    "次のワークからはこのノートブック環境を使って、AIを作っていきます！"
   ]
  }
 ],
 "metadata": {
  "environment": {
   "kernel": "python3",
   "name": "tf2-gpu.2-13.m113",
   "type": "gcloud",
   "uri": "gcr.io/deeplearning-platform-release/tf2-gpu.2-13:m113"
  },
  "kernelspec": {
   "display_name": "Python 3",
   "language": "python",
   "name": "python3"
  },
  "language_info": {
   "codemirror_mode": {
    "name": "ipython",
    "version": 3
   },
   "file_extension": ".py",
   "mimetype": "text/x-python",
   "name": "python",
   "nbconvert_exporter": "python",
   "pygments_lexer": "ipython3",
   "version": "3.10.13"
  }
 },
 "nbformat": 4,
 "nbformat_minor": 5
}

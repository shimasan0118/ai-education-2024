{
 "cells": [
  {
   "cell_type": "markdown",
   "id": "cd98f832-5488-408d-86af-48dbbc480747",
   "metadata": {},
   "source": [
    "<h1 style=\"display: inline-block; margin-right: -30px;\">手書き数字認識AIを作ってみよう</h1>\n",
    "<img src=\"img/magician.png\" style=\"display: inline-block; vertical-align: middle; width: 80px; height: auto;\" />\n"
   ]
  },
  {
   "cell_type": "markdown",
   "id": "472caa91-4f9e-46bc-9341-a5112264d6a0",
   "metadata": {},
   "source": [
    "このワークブックでは、手書き数字を認識するAIを作成していきます。  \n",
    "MNISTデータセットを使用して、データの分析、前処理、モデルの訓練、予測を行います。  \n",
    "そして最後にGradioを用いたインタラクティブなゲームを作成してAIを構築する作業の一連のプロセスを学びます。"
   ]
  },
  {
   "cell_type": "markdown",
   "id": "10d982ec-eef1-4a2f-8cf3-21849684f581",
   "metadata": {},
   "source": [
    "- データセットの準備と分析\n",
    "    - データセットの概要確認\n",
    "    - データセットの分布確認\n",
    "    - サンプルデータの表示\n",
    "    - 特定の数字のサンプル表示\n",
    "- データセットの前処理\n",
    "- AIの構築\n",
    "- AIの評価\n",
    "    - 学習過程の可視化\n",
    "    - テストデータを使った予測\n",
    "- 【応用】手書き数字認識ゲームの作成"
   ]
  },
  {
   "cell_type": "markdown",
   "id": "90e14511-feb3-4957-abd0-f858d19eb103",
   "metadata": {},
   "source": [
    "<hr style=\"border-top: 2px solid #71EB8B;\">"
   ]
  },
  {
   "cell_type": "markdown",
   "id": "06bdff8e-aa94-4e92-8934-d4ff59b70905",
   "metadata": {},
   "source": [
    "## <span style=\"color:#E5004C\"> データセットの準備と分析 <span>\n",
    "<p style=\"font-weight: bold; color: black; border: 3px solid #71EB8B; padding: 5px; display: inline-block;\">\n",
    "    参照: スライド 28ページ\n",
    "</p>\n",
    "<br>\n",
    "<img src=\"img/dataset_analysis.png\" style=\"display: inline-block; vertical-align: middle; width: 600px; height: auto;\" />\n",
    "    \n",
    "まずは必要なライブラリをインポートし、データセットを準備します。  \n",
    "MNISTは手書き数字のデータセットで、AIモデルの訓練に広く使用されています。"
   ]
  },
  {
   "cell_type": "code",
   "execution_count": 1,
   "id": "69737863-46d0-4319-96f9-9c116e6f9d26",
   "metadata": {
    "tags": []
   },
   "outputs": [
    {
     "name": "stdout",
     "output_type": "stream",
     "text": [
      "Requirement already satisfied: japanize_matplotlib in /home/ec2-user/anaconda3/envs/tensorflow2_p310/lib/python3.10/site-packages (1.1.3)\n",
      "Requirement already satisfied: matplotlib in /home/ec2-user/anaconda3/envs/tensorflow2_p310/lib/python3.10/site-packages (from japanize_matplotlib) (3.8.0)\n",
      "Requirement already satisfied: contourpy>=1.0.1 in /home/ec2-user/anaconda3/envs/tensorflow2_p310/lib/python3.10/site-packages (from matplotlib->japanize_matplotlib) (1.1.1)\n",
      "Requirement already satisfied: cycler>=0.10 in /home/ec2-user/anaconda3/envs/tensorflow2_p310/lib/python3.10/site-packages (from matplotlib->japanize_matplotlib) (0.12.1)\n",
      "Requirement already satisfied: fonttools>=4.22.0 in /home/ec2-user/anaconda3/envs/tensorflow2_p310/lib/python3.10/site-packages (from matplotlib->japanize_matplotlib) (4.43.1)\n",
      "Requirement already satisfied: kiwisolver>=1.0.1 in /home/ec2-user/anaconda3/envs/tensorflow2_p310/lib/python3.10/site-packages (from matplotlib->japanize_matplotlib) (1.4.5)\n",
      "Requirement already satisfied: numpy<2,>=1.21 in /home/ec2-user/anaconda3/envs/tensorflow2_p310/lib/python3.10/site-packages (from matplotlib->japanize_matplotlib) (1.26.1)\n",
      "Requirement already satisfied: packaging>=20.0 in /home/ec2-user/anaconda3/envs/tensorflow2_p310/lib/python3.10/site-packages (from matplotlib->japanize_matplotlib) (21.3)\n",
      "Requirement already satisfied: pillow>=6.2.0 in /home/ec2-user/anaconda3/envs/tensorflow2_p310/lib/python3.10/site-packages (from matplotlib->japanize_matplotlib) (10.1.0)\n",
      "Requirement already satisfied: pyparsing>=2.3.1 in /home/ec2-user/anaconda3/envs/tensorflow2_p310/lib/python3.10/site-packages (from matplotlib->japanize_matplotlib) (3.1.1)\n",
      "Requirement already satisfied: python-dateutil>=2.7 in /home/ec2-user/anaconda3/envs/tensorflow2_p310/lib/python3.10/site-packages (from matplotlib->japanize_matplotlib) (2.8.2)\n",
      "Requirement already satisfied: six>=1.5 in /home/ec2-user/anaconda3/envs/tensorflow2_p310/lib/python3.10/site-packages (from python-dateutil>=2.7->matplotlib->japanize_matplotlib) (1.16.0)\n",
      "Requirement already satisfied: gradio==3.50.0 in /home/ec2-user/anaconda3/envs/tensorflow2_p310/lib/python3.10/site-packages (3.50.0)\n",
      "Requirement already satisfied: aiofiles<24.0,>=22.0 in /home/ec2-user/anaconda3/envs/tensorflow2_p310/lib/python3.10/site-packages (from gradio==3.50.0) (23.2.1)\n",
      "Requirement already satisfied: altair<6.0,>=4.2.0 in /home/ec2-user/anaconda3/envs/tensorflow2_p310/lib/python3.10/site-packages (from gradio==3.50.0) (5.2.0)\n",
      "Requirement already satisfied: fastapi in /home/ec2-user/anaconda3/envs/tensorflow2_p310/lib/python3.10/site-packages (from gradio==3.50.0) (0.95.2)\n",
      "Requirement already satisfied: ffmpy in /home/ec2-user/anaconda3/envs/tensorflow2_p310/lib/python3.10/site-packages (from gradio==3.50.0) (0.3.1)\n",
      "Requirement already satisfied: gradio-client==0.6.1 in /home/ec2-user/anaconda3/envs/tensorflow2_p310/lib/python3.10/site-packages (from gradio==3.50.0) (0.6.1)\n",
      "Requirement already satisfied: httpx in /home/ec2-user/anaconda3/envs/tensorflow2_p310/lib/python3.10/site-packages (from gradio==3.50.0) (0.26.0)\n",
      "Requirement already satisfied: huggingface-hub>=0.14.0 in /home/ec2-user/anaconda3/envs/tensorflow2_p310/lib/python3.10/site-packages (from gradio==3.50.0) (0.20.2)\n",
      "Requirement already satisfied: importlib-resources<7.0,>=1.3 in /home/ec2-user/anaconda3/envs/tensorflow2_p310/lib/python3.10/site-packages (from gradio==3.50.0) (6.1.0)\n",
      "Requirement already satisfied: jinja2<4.0 in /home/ec2-user/anaconda3/envs/tensorflow2_p310/lib/python3.10/site-packages (from gradio==3.50.0) (3.1.2)\n",
      "Requirement already satisfied: markupsafe~=2.0 in /home/ec2-user/anaconda3/envs/tensorflow2_p310/lib/python3.10/site-packages (from gradio==3.50.0) (2.1.3)\n",
      "Requirement already satisfied: matplotlib~=3.0 in /home/ec2-user/anaconda3/envs/tensorflow2_p310/lib/python3.10/site-packages (from gradio==3.50.0) (3.8.0)\n",
      "Requirement already satisfied: numpy~=1.0 in /home/ec2-user/anaconda3/envs/tensorflow2_p310/lib/python3.10/site-packages (from gradio==3.50.0) (1.26.1)\n",
      "Requirement already satisfied: orjson~=3.0 in /home/ec2-user/anaconda3/envs/tensorflow2_p310/lib/python3.10/site-packages (from gradio==3.50.0) (3.9.10)\n",
      "Requirement already satisfied: packaging in /home/ec2-user/anaconda3/envs/tensorflow2_p310/lib/python3.10/site-packages (from gradio==3.50.0) (21.3)\n",
      "Requirement already satisfied: pandas<3.0,>=1.0 in /home/ec2-user/anaconda3/envs/tensorflow2_p310/lib/python3.10/site-packages (from gradio==3.50.0) (1.5.3)\n",
      "Requirement already satisfied: pillow<11.0,>=8.0 in /home/ec2-user/anaconda3/envs/tensorflow2_p310/lib/python3.10/site-packages (from gradio==3.50.0) (10.1.0)\n",
      "Requirement already satisfied: pydantic!=1.8,!=1.8.1,!=2.0.0,!=2.0.1,<3.0.0,>=1.7.4 in /home/ec2-user/anaconda3/envs/tensorflow2_p310/lib/python3.10/site-packages (from gradio==3.50.0) (1.10.13)\n",
      "Requirement already satisfied: pydub in /home/ec2-user/anaconda3/envs/tensorflow2_p310/lib/python3.10/site-packages (from gradio==3.50.0) (0.25.1)\n",
      "Requirement already satisfied: python-multipart in /home/ec2-user/anaconda3/envs/tensorflow2_p310/lib/python3.10/site-packages (from gradio==3.50.0) (0.0.6)\n",
      "Requirement already satisfied: pyyaml<7.0,>=5.0 in /home/ec2-user/anaconda3/envs/tensorflow2_p310/lib/python3.10/site-packages (from gradio==3.50.0) (6.0.1)\n",
      "Requirement already satisfied: requests~=2.0 in /home/ec2-user/anaconda3/envs/tensorflow2_p310/lib/python3.10/site-packages (from gradio==3.50.0) (2.31.0)\n",
      "Requirement already satisfied: semantic-version~=2.0 in /home/ec2-user/anaconda3/envs/tensorflow2_p310/lib/python3.10/site-packages (from gradio==3.50.0) (2.10.0)\n",
      "Requirement already satisfied: typing-extensions~=4.0 in /home/ec2-user/anaconda3/envs/tensorflow2_p310/lib/python3.10/site-packages (from gradio==3.50.0) (4.5.0)\n",
      "Requirement already satisfied: uvicorn>=0.14.0 in /home/ec2-user/anaconda3/envs/tensorflow2_p310/lib/python3.10/site-packages (from gradio==3.50.0) (0.22.0)\n",
      "Requirement already satisfied: websockets<12.0,>=10.0 in /home/ec2-user/anaconda3/envs/tensorflow2_p310/lib/python3.10/site-packages (from gradio==3.50.0) (11.0.3)\n",
      "Requirement already satisfied: fsspec in /home/ec2-user/anaconda3/envs/tensorflow2_p310/lib/python3.10/site-packages (from gradio-client==0.6.1->gradio==3.50.0) (2023.10.0)\n",
      "Requirement already satisfied: jsonschema>=3.0 in /home/ec2-user/anaconda3/envs/tensorflow2_p310/lib/python3.10/site-packages (from altair<6.0,>=4.2.0->gradio==3.50.0) (4.19.1)\n",
      "Requirement already satisfied: toolz in /home/ec2-user/anaconda3/envs/tensorflow2_p310/lib/python3.10/site-packages (from altair<6.0,>=4.2.0->gradio==3.50.0) (0.12.0)\n",
      "Requirement already satisfied: filelock in /home/ec2-user/anaconda3/envs/tensorflow2_p310/lib/python3.10/site-packages (from huggingface-hub>=0.14.0->gradio==3.50.0) (3.12.4)\n",
      "Requirement already satisfied: tqdm>=4.42.1 in /home/ec2-user/anaconda3/envs/tensorflow2_p310/lib/python3.10/site-packages (from huggingface-hub>=0.14.0->gradio==3.50.0) (4.66.1)\n",
      "Requirement already satisfied: contourpy>=1.0.1 in /home/ec2-user/anaconda3/envs/tensorflow2_p310/lib/python3.10/site-packages (from matplotlib~=3.0->gradio==3.50.0) (1.1.1)\n",
      "Requirement already satisfied: cycler>=0.10 in /home/ec2-user/anaconda3/envs/tensorflow2_p310/lib/python3.10/site-packages (from matplotlib~=3.0->gradio==3.50.0) (0.12.1)\n",
      "Requirement already satisfied: fonttools>=4.22.0 in /home/ec2-user/anaconda3/envs/tensorflow2_p310/lib/python3.10/site-packages (from matplotlib~=3.0->gradio==3.50.0) (4.43.1)\n",
      "Requirement already satisfied: kiwisolver>=1.0.1 in /home/ec2-user/anaconda3/envs/tensorflow2_p310/lib/python3.10/site-packages (from matplotlib~=3.0->gradio==3.50.0) (1.4.5)\n",
      "Requirement already satisfied: pyparsing>=2.3.1 in /home/ec2-user/anaconda3/envs/tensorflow2_p310/lib/python3.10/site-packages (from matplotlib~=3.0->gradio==3.50.0) (3.1.1)\n",
      "Requirement already satisfied: python-dateutil>=2.7 in /home/ec2-user/anaconda3/envs/tensorflow2_p310/lib/python3.10/site-packages (from matplotlib~=3.0->gradio==3.50.0) (2.8.2)\n",
      "Requirement already satisfied: pytz>=2020.1 in /home/ec2-user/anaconda3/envs/tensorflow2_p310/lib/python3.10/site-packages (from pandas<3.0,>=1.0->gradio==3.50.0) (2023.3.post1)\n",
      "Requirement already satisfied: charset-normalizer<4,>=2 in /home/ec2-user/anaconda3/envs/tensorflow2_p310/lib/python3.10/site-packages (from requests~=2.0->gradio==3.50.0) (3.3.1)\n",
      "Requirement already satisfied: idna<4,>=2.5 in /home/ec2-user/anaconda3/envs/tensorflow2_p310/lib/python3.10/site-packages (from requests~=2.0->gradio==3.50.0) (3.4)\n",
      "Requirement already satisfied: urllib3<3,>=1.21.1 in /home/ec2-user/anaconda3/envs/tensorflow2_p310/lib/python3.10/site-packages (from requests~=2.0->gradio==3.50.0) (1.26.18)\n",
      "Requirement already satisfied: certifi>=2017.4.17 in /home/ec2-user/anaconda3/envs/tensorflow2_p310/lib/python3.10/site-packages (from requests~=2.0->gradio==3.50.0) (2023.7.22)\n",
      "Requirement already satisfied: click>=7.0 in /home/ec2-user/anaconda3/envs/tensorflow2_p310/lib/python3.10/site-packages (from uvicorn>=0.14.0->gradio==3.50.0) (8.1.7)\n",
      "Requirement already satisfied: h11>=0.8 in /home/ec2-user/anaconda3/envs/tensorflow2_p310/lib/python3.10/site-packages (from uvicorn>=0.14.0->gradio==3.50.0) (0.14.0)\n",
      "Requirement already satisfied: starlette<0.28.0,>=0.27.0 in /home/ec2-user/anaconda3/envs/tensorflow2_p310/lib/python3.10/site-packages (from fastapi->gradio==3.50.0) (0.27.0)\n",
      "Requirement already satisfied: anyio in /home/ec2-user/anaconda3/envs/tensorflow2_p310/lib/python3.10/site-packages (from httpx->gradio==3.50.0) (4.0.0)\n",
      "Requirement already satisfied: httpcore==1.* in /home/ec2-user/anaconda3/envs/tensorflow2_p310/lib/python3.10/site-packages (from httpx->gradio==3.50.0) (1.0.2)\n",
      "Requirement already satisfied: sniffio in /home/ec2-user/anaconda3/envs/tensorflow2_p310/lib/python3.10/site-packages (from httpx->gradio==3.50.0) (1.3.0)\n",
      "Requirement already satisfied: attrs>=22.2.0 in /home/ec2-user/anaconda3/envs/tensorflow2_p310/lib/python3.10/site-packages (from jsonschema>=3.0->altair<6.0,>=4.2.0->gradio==3.50.0) (23.1.0)\n",
      "Requirement already satisfied: jsonschema-specifications>=2023.03.6 in /home/ec2-user/anaconda3/envs/tensorflow2_p310/lib/python3.10/site-packages (from jsonschema>=3.0->altair<6.0,>=4.2.0->gradio==3.50.0) (2023.7.1)\n",
      "Requirement already satisfied: referencing>=0.28.4 in /home/ec2-user/anaconda3/envs/tensorflow2_p310/lib/python3.10/site-packages (from jsonschema>=3.0->altair<6.0,>=4.2.0->gradio==3.50.0) (0.30.2)\n",
      "Requirement already satisfied: rpds-py>=0.7.1 in /home/ec2-user/anaconda3/envs/tensorflow2_p310/lib/python3.10/site-packages (from jsonschema>=3.0->altair<6.0,>=4.2.0->gradio==3.50.0) (0.10.6)\n",
      "Requirement already satisfied: six>=1.5 in /home/ec2-user/anaconda3/envs/tensorflow2_p310/lib/python3.10/site-packages (from python-dateutil>=2.7->matplotlib~=3.0->gradio==3.50.0) (1.16.0)\n",
      "Requirement already satisfied: exceptiongroup>=1.0.2 in /home/ec2-user/anaconda3/envs/tensorflow2_p310/lib/python3.10/site-packages (from anyio->httpx->gradio==3.50.0) (1.1.3)\n",
      "Requirement already satisfied: pydot in /home/ec2-user/anaconda3/envs/tensorflow2_p310/lib/python3.10/site-packages (2.0.0)\n",
      "Requirement already satisfied: pyparsing>=3 in /home/ec2-user/anaconda3/envs/tensorflow2_p310/lib/python3.10/site-packages (from pydot) (3.1.1)\n",
      "Requirement already satisfied: typing_extensions in /home/ec2-user/anaconda3/envs/tensorflow2_p310/lib/python3.10/site-packages (4.5.0)\n",
      "Requirement already satisfied: sqlalchemy in /home/ec2-user/anaconda3/envs/tensorflow2_p310/lib/python3.10/site-packages (2.0.22)\n",
      "Requirement already satisfied: typing-extensions>=4.2.0 in /home/ec2-user/anaconda3/envs/tensorflow2_p310/lib/python3.10/site-packages (from sqlalchemy) (4.5.0)\n",
      "Requirement already satisfied: greenlet!=0.4.17 in /home/ec2-user/anaconda3/envs/tensorflow2_p310/lib/python3.10/site-packages (from sqlalchemy) (3.0.1)\n",
      "Requirement already satisfied: pymysql in /home/ec2-user/anaconda3/envs/tensorflow2_p310/lib/python3.10/site-packages (1.1.0)\n",
      "Requirement already satisfied: google-cloud-storage in /home/ec2-user/anaconda3/envs/tensorflow2_p310/lib/python3.10/site-packages (2.14.0)\n",
      "Requirement already satisfied: google-auth<3.0dev,>=2.23.3 in /home/ec2-user/anaconda3/envs/tensorflow2_p310/lib/python3.10/site-packages (from google-cloud-storage) (2.23.3)\n",
      "Requirement already satisfied: google-api-core!=2.0.*,!=2.1.*,!=2.2.*,!=2.3.0,<3.0.0dev,>=1.31.5 in /home/ec2-user/anaconda3/envs/tensorflow2_p310/lib/python3.10/site-packages (from google-cloud-storage) (2.15.0)\n",
      "Requirement already satisfied: google-cloud-core<3.0dev,>=2.3.0 in /home/ec2-user/anaconda3/envs/tensorflow2_p310/lib/python3.10/site-packages (from google-cloud-storage) (2.4.1)\n",
      "Requirement already satisfied: google-resumable-media>=2.6.0 in /home/ec2-user/anaconda3/envs/tensorflow2_p310/lib/python3.10/site-packages (from google-cloud-storage) (2.7.0)\n",
      "Requirement already satisfied: requests<3.0.0dev,>=2.18.0 in /home/ec2-user/anaconda3/envs/tensorflow2_p310/lib/python3.10/site-packages (from google-cloud-storage) (2.31.0)\n",
      "Requirement already satisfied: google-crc32c<2.0dev,>=1.0 in /home/ec2-user/anaconda3/envs/tensorflow2_p310/lib/python3.10/site-packages (from google-cloud-storage) (1.5.0)\n",
      "Requirement already satisfied: googleapis-common-protos<2.0.dev0,>=1.56.2 in /home/ec2-user/anaconda3/envs/tensorflow2_p310/lib/python3.10/site-packages (from google-api-core!=2.0.*,!=2.1.*,!=2.2.*,!=2.3.0,<3.0.0dev,>=1.31.5->google-cloud-storage) (1.62.0)\n",
      "Requirement already satisfied: protobuf!=3.20.0,!=3.20.1,!=4.21.0,!=4.21.1,!=4.21.2,!=4.21.3,!=4.21.4,!=4.21.5,<5.0.0.dev0,>=3.19.5 in /home/ec2-user/anaconda3/envs/tensorflow2_p310/lib/python3.10/site-packages (from google-api-core!=2.0.*,!=2.1.*,!=2.2.*,!=2.3.0,<3.0.0dev,>=1.31.5->google-cloud-storage) (4.24.4)\n",
      "Requirement already satisfied: cachetools<6.0,>=2.0.0 in /home/ec2-user/anaconda3/envs/tensorflow2_p310/lib/python3.10/site-packages (from google-auth<3.0dev,>=2.23.3->google-cloud-storage) (5.3.2)\n",
      "Requirement already satisfied: pyasn1-modules>=0.2.1 in /home/ec2-user/anaconda3/envs/tensorflow2_p310/lib/python3.10/site-packages (from google-auth<3.0dev,>=2.23.3->google-cloud-storage) (0.3.0)\n",
      "Requirement already satisfied: rsa<5,>=3.1.4 in /home/ec2-user/anaconda3/envs/tensorflow2_p310/lib/python3.10/site-packages (from google-auth<3.0dev,>=2.23.3->google-cloud-storage) (4.7.2)\n",
      "Requirement already satisfied: charset-normalizer<4,>=2 in /home/ec2-user/anaconda3/envs/tensorflow2_p310/lib/python3.10/site-packages (from requests<3.0.0dev,>=2.18.0->google-cloud-storage) (3.3.1)\n",
      "Requirement already satisfied: idna<4,>=2.5 in /home/ec2-user/anaconda3/envs/tensorflow2_p310/lib/python3.10/site-packages (from requests<3.0.0dev,>=2.18.0->google-cloud-storage) (3.4)\n",
      "Requirement already satisfied: urllib3<3,>=1.21.1 in /home/ec2-user/anaconda3/envs/tensorflow2_p310/lib/python3.10/site-packages (from requests<3.0.0dev,>=2.18.0->google-cloud-storage) (1.26.18)\n",
      "Requirement already satisfied: certifi>=2017.4.17 in /home/ec2-user/anaconda3/envs/tensorflow2_p310/lib/python3.10/site-packages (from requests<3.0.0dev,>=2.18.0->google-cloud-storage) (2023.7.22)\n",
      "Requirement already satisfied: pyasn1<0.6.0,>=0.4.6 in /home/ec2-user/anaconda3/envs/tensorflow2_p310/lib/python3.10/site-packages (from pyasn1-modules>=0.2.1->google-auth<3.0dev,>=2.23.3->google-cloud-storage) (0.5.0)\n"
     ]
    }
   ],
   "source": [
    "# 実行に必要なライブラリをインストールします\n",
    "! pip install japanize_matplotlib\n",
    "! pip install gradio==3.50.0\n",
    "! pip install pydot\n",
    "! pip install typing_extensions\n",
    "! pip install sqlalchemy\n",
    "! pip install pymysql\n",
    "! pip install google-cloud-storage"
   ]
  },
  {
   "cell_type": "code",
   "execution_count": 2,
   "id": "250a332b-5e42-4e3d-b358-72de08cdd944",
   "metadata": {
    "tags": []
   },
   "outputs": [],
   "source": [
    "# ユーティリティライブラリからmnistをインポート\n",
    "from utils import mnist "
   ]
  },
  {
   "cell_type": "code",
   "execution_count": 3,
   "id": "c6b11bb8-edf1-4e9b-986b-df39d6c4736d",
   "metadata": {
    "tags": []
   },
   "outputs": [],
   "source": [
    "# 手書き数字認識AIを作るために必要なクラスを定義します\n",
    "mn = mnist.MnistModel()"
   ]
  },
  {
   "cell_type": "markdown",
   "id": "51fd5178-9844-4be0-9f58-1d031e580466",
   "metadata": {
    "tags": []
   },
   "source": [
    "### データセットの概要確認\n",
    "\n",
    "学習用データセットとテストデータセットの総数を確認しましょう。  \n",
    "これにより、データセットの大きさを把握することができます。\n"
   ]
  },
  {
   "cell_type": "code",
   "execution_count": 4,
   "id": "fd9030bf-b03e-4431-8cdd-bdd0d2dda61f",
   "metadata": {
    "tags": []
   },
   "outputs": [
    {
     "name": "stdout",
     "output_type": "stream",
     "text": [
      "学習用データ　　　: 60000個\n",
      "学習用ラベル　　　: 60000個\n",
      "テスト用データ　　: 10000個\n",
      "テスト用ラベル　　: 10000個\n",
      "ラベルのクラス数　: 10個\n"
     ]
    }
   ],
   "source": [
    "# 学習用とテストデータの総数を確認する\n",
    "mn.show_dataset_num()"
   ]
  },
  {
   "cell_type": "markdown",
   "id": "d926f509-69fe-4896-bbcc-022a7cd833e5",
   "metadata": {},
   "source": [
    "学習用データとラベルが60000個、テスト用データとラベルが1万個あることが確認できるかと思います。  \n",
    "また、ラベル数も手書き数字の0~9なので、10個あることを確認しましょう。"
   ]
  },
  {
   "cell_type": "markdown",
   "id": "d077c434-dde0-4d54-b115-9223f671da60",
   "metadata": {
    "tags": []
   },
   "source": [
    "### データセットの分布確認\n",
    "\n",
    "それぞれの数字がデータセット内でどのように分布しているかを視覚化します。  \n",
    "各クラスが均等に入っているのが理想的な配分となります。"
   ]
  },
  {
   "cell_type": "code",
   "execution_count": 5,
   "id": "9ae57611-9fbe-4cad-8248-201fceaf04ec",
   "metadata": {
    "tags": []
   },
   "outputs": [
    {
     "data": {
      "image/png": "[encoded data removed]",
      "text/plain": [
       "<Figure size 1500x600 with 2 Axes>"
      ]
     },
     "metadata": {},
     "output_type": "display_data"
    }
   ],
   "source": [
    "# 学習とテストのデータが各数字いくつくらいあるかを確認する\n",
    "mn.show_dataset_graph()"
   ]
  },
  {
   "cell_type": "markdown",
   "id": "6ef6bf6e-8468-401d-8ed1-9bd2bd96aa89",
   "metadata": {
    "tags": []
   },
   "source": [
    "0~9の各数字が学習のデータセットでは約6000個、テストのデータセットが  \n",
    "約1000個入っているのが確認できましたでしょうか？"
   ]
  },
  {
   "cell_type": "markdown",
   "id": "ea6f5593-abf6-475e-941f-7fe14921548f",
   "metadata": {},
   "source": [
    "### サンプルデータの表示　\n",
    "\n",
    "MNISTデータセットの一部を表示してみましょう。  \n",
    "これにより、データセットの具体的な内容を視覚的に理解することができます。\n"
   ]
  },
  {
   "cell_type": "code",
   "execution_count": 6,
   "id": "19b54233-ba70-418c-825d-7024b203891f",
   "metadata": {
    "tags": []
   },
   "outputs": [
    {
     "data": {
      "text/html": [
       "<table border=\"1\" class=\"dataframe\">\n",
       "  <thead>\n",
       "    <tr style=\"text-align: right;\">\n",
       "      <th></th>\n",
       "      <th>画像</th>\n",
       "      <th>ラベル_0</th>\n",
       "      <th>ラベル_1</th>\n",
       "      <th>ラベル_2</th>\n",
       "      <th>ラベル_3</th>\n",
       "      <th>ラベル_4</th>\n",
       "      <th>ラベル_5</th>\n",
       "      <th>ラベル_6</th>\n",
       "      <th>ラベル_7</th>\n",
       "      <th>ラベル_8</th>\n",
       "      <th>ラベル_9</th>\n",
       "    </tr>\n",
       "  </thead>\n",
       "  <tbody>\n",
       "    <tr>\n",
       "      <th>0</th>\n",
       "      <td><img src=\"data:image/png;base64,iVBORw0KGgoAAAANSUhEUgAAABwAAAAcCAAAAABXZoBIAAABAElEQVR4nGNgGMyAWUhIqK5jvdSy/9/rGRgYGFhgEnJsVjYCwQwMDAxPJgV+vniQgYGBgREqZ7iXH8r6l/SV4dn7m8gmCt3++/fv37/Htn3/iMW+gDnZf/+e5WbQnoXNNXyMs/5GoQoxwVmf/n9kSGFiwAW49/11wynJoPzx4YIcRlyygR/+/i2XxCWru+vv32nSuGQFYv/83Y3b4p9/fzpAmSyoMnohpiwM1w5h06Q+5enfv39/bcMiJVF09+/fv39P+mFKiTtd/fv3799jgZiBJLT69t+/f/8eDuDEkDJf8+jv379/v7Ryo4qzMDAwMAQGMjBc3/y35wM2V1IfAABFF16Aa0wAOwAAAABJRU5ErkJggg==\" style=\"width: 28px; height: 28px;\"></td>\n",
       "      <td>0</td>\n",
       "      <td>0</td>\n",
       "      <td>0</td>\n",
       "      <td>0</td>\n",
       "      <td>0</td>\n",
       "      <td>1</td>\n",
       "      <td>0</td>\n",
       "      <td>0</td>\n",
       "      <td>0</td>\n",
       "      <td>0</td>\n",
       "    </tr>\n",
       "    <tr>\n",
       "      <th>1</th>\n",
       "      <td><img src=\"data:image/png;base64,iVBORw0KGgoAAAANSUhEUgAAABwAAAAcCAAAAABXZoBIAAAA/0lEQVR4nGNgGHhgPP/vfCMccgbv/vz58xa7nNnjv3/ev/xjyYYpxWXz4M/fP6dC/vytgggwIUnOPCDDwMBgxHOQQRdD0tibkfFQKeOL85OYGLG5ZTOPd6UoA8Pfz2gOVlv69+WFEAj775+lKHLsm/58cBeWgUkeRpG0/PPHHs5Blzz2dx+C8//vEWTX+hj834SQ/Pf/ArLG0D/PJOHWt//dxYMqeR8u1/znoTsDquREKMtg6Z+1DKgg7O9DCKPo3d9FaHIMoX9+TjKQDd308O/95RaYkn/+PL3+58+fI03oUgwMMsf//Pn758/LiZhSDAwMkg1//v7pVcUqR1cAAKxwbkTVIzd2AAAAAElFTkSuQmCC\" style=\"width: 28px; height: 28px;\"></td>\n",
       "      <td>1</td>\n",
       "      <td>0</td>\n",
       "      <td>0</td>\n",
       "      <td>0</td>\n",
       "      <td>0</td>\n",
       "      <td>0</td>\n",
       "      <td>0</td>\n",
       "      <td>0</td>\n",
       "      <td>0</td>\n",
       "      <td>0</td>\n",
       "    </tr>\n",
       "    <tr>\n",
       "      <th>2</th>\n",
       "      <td><img src=\"data:image/png;base64,iVBORw0KGgoAAAANSUhEUgAAABwAAAAcCAAAAABXZoBIAAAA1ElEQVR4nGNgGArA+YU6AwMDAwMTAwMDg10gqqTpGQaEpEMQihyTohwjgndnMYqk9L9FSDqZUE2dw3AbIaknjirJz7AbIenFiSInrsjwFCGpznAVWbJH/NZnCIuFgYGBgeE0XIbPI8aNofkDsqQQAwODPpOzDFs00/eTP1nOQlUyMjAwTEv/8IiBQY/xz7drJ88cfPlEkI0BoTProRUDA8OjjddOMDAwMKSJ3mPACVb+64QxmbBIb8AnyYBHklEVj+R/JjySDJb4jMVj5/b/OB1IJQAAg3ksR3QPgSAAAAAASUVORK5CYII=\" style=\"width: 28px; height: 28px;\"></td>\n",
       "      <td>0</td>\n",
       "      <td>0</td>\n",
       "      <td>0</td>\n",
       "      <td>0</td>\n",
       "      <td>1</td>\n",
       "      <td>0</td>\n",
       "      <td>0</td>\n",
       "      <td>0</td>\n",
       "      <td>0</td>\n",
       "      <td>0</td>\n",
       "    </tr>\n",
       "    <tr>\n",
       "      <th>3</th>\n",
       "      <td><img src=\"data:image/png;base64,iVBORw0KGgoAAAANSUhEUgAAABwAAAAcCAAAAABXZoBIAAAAnElEQVR4nGNgGPyg5u9/e1xyCV9+/7WDMJkwJOXZcRvq8ub3ZXkO7HI2T37/jsOlcfbfv3txyYn8/f3aCYecwtm/v+twacz4/XcHPw65gA+/D4rjMvTv37/zcRk6/ffv3+o45Azu/v69BpfGV79/H+HBJfn39+9IXHLz///9K4/Lxid/v/fgCHAGh99/76CLYcYnNskbx/ApoyoAAGeYO0QsY6cRAAAAAElFTkSuQmCC\" style=\"width: 28px; height: 28px;\"></td>\n",
       "      <td>0</td>\n",
       "      <td>1</td>\n",
       "      <td>0</td>\n",
       "      <td>0</td>\n",
       "      <td>0</td>\n",
       "      <td>0</td>\n",
       "      <td>0</td>\n",
       "      <td>0</td>\n",
       "      <td>0</td>\n",
       "      <td>0</td>\n",
       "    </tr>\n",
       "    <tr>\n",
       "      <th>4</th>\n",
       "      <td><img src=\"data:image/png;base64,iVBORw0KGgoAAAANSUhEUgAAABwAAAAcCAAAAABXZoBIAAAA1ElEQVR4nN3QPwtBYRQG8EMU0e0uZLIw+QKXRZlMGC0GX8CglE0pk0VxPwQmE5YrJYPVIjYMlImSwXNiMOi97319AM/6O6fzh+g/Y5hr5mrRNByseAZba4D7EnlSN8wy3uAYXJOwDEw0ohKwD9mtxehqRLQBCnZr8GPkJ/Ll79y0m37GiIjiK2AQsGMYiIbryyvjmZO20U9gAIcjTg43GhfethOROToO+En6xRUlZhnSjd+I6BY7xVIRY79w4XapR9IOSTWWYSWUqE0xlH771R7UrULefm5U2pxVCt0AAAAASUVORK5CYII=\" style=\"width: 28px; height: 28px;\"></td>\n",
       "      <td>0</td>\n",
       "      <td>0</td>\n",
       "      <td>0</td>\n",
       "      <td>0</td>\n",
       "      <td>0</td>\n",
       "      <td>0</td>\n",
       "      <td>0</td>\n",
       "      <td>0</td>\n",
       "      <td>0</td>\n",
       "      <td>1</td>\n",
       "    </tr>\n",
       "  </tbody>\n",
       "</table>"
      ],
      "text/plain": [
       "<IPython.core.display.HTML object>"
      ]
     },
     "metadata": {},
     "output_type": "display_data"
    }
   ],
   "source": [
    "# チェックするデータの数\n",
    "num_samples = 5\n",
    "\n",
    "mn.display_mnist_samples(n=num_samples)"
   ]
  },
  {
   "cell_type": "markdown",
   "id": "56d2c9bf-c841-4fa2-8254-317cbf12d033",
   "metadata": {},
   "source": [
    "### 特定の数字のサンプル表示\n",
    "\n",
    "特定の数字（ここでは7）のサンプルを表示してみましょう。これにより、同じ数字でもさまざまな書き方があることがわかります。  \n"
   ]
  },
  {
   "cell_type": "code",
   "execution_count": 7,
   "id": "0fc2ebd8-8196-48eb-a365-66b704dd3949",
   "metadata": {
    "tags": []
   },
   "outputs": [
    {
     "data": {
      "text/html": [
       "<table border=\"1\" class=\"dataframe\">\n",
       "  <thead>\n",
       "    <tr style=\"text-align: right;\">\n",
       "      <th></th>\n",
       "      <th>画像</th>\n",
       "      <th>ラベル_0</th>\n",
       "      <th>ラベル_1</th>\n",
       "      <th>ラベル_2</th>\n",
       "      <th>ラベル_3</th>\n",
       "      <th>ラベル_4</th>\n",
       "      <th>ラベル_5</th>\n",
       "      <th>ラベル_6</th>\n",
       "      <th>ラベル_7</th>\n",
       "      <th>ラベル_8</th>\n",
       "      <th>ラベル_9</th>\n",
       "    </tr>\n",
       "  </thead>\n",
       "  <tbody>\n",
       "    <tr>\n",
       "      <th>0</th>\n",
       "      <td><img src=\"data:image/png;base64,iVBORw0KGgoAAAANSUhEUgAAABwAAAAcCAAAAABXZoBIAAAA5UlEQVR4nN3PMUuCURjF8aODg1AoOdjk+CbOTg0SRps0tNnukNHi1BcIHFwbaowgGl3EoJBGwaFFCsrKT6BBGPW/5CLF+3KfL+CZ7uV3H+5zpKVJLHJvJPL7eix4Xpbq1z8A38MIrPfG4ymuD8B72LZfAQjWgq036ITxBvg8LEo6hedMyHY+YLQpSWpDKzzYhfuyJKWrk8XpP3uDu6wk6Rgesp4iklSZ8XVgmBzULDv5dS4wLNFx1ON+S9ZwFym/rVzBkTGnPDxZy2ycM8xZeAnRhn9/FFZ1dmsNNnmxGkpldk3zZg5Mtl9waa8xrgAAAABJRU5ErkJggg==\" style=\"width: 28px; height: 28px;\"></td>\n",
       "      <td>0</td>\n",
       "      <td>0</td>\n",
       "      <td>0</td>\n",
       "      <td>0</td>\n",
       "      <td>0</td>\n",
       "      <td>0</td>\n",
       "      <td>0</td>\n",
       "      <td>1</td>\n",
       "      <td>0</td>\n",
       "      <td>0</td>\n",
       "    </tr>\n",
       "    <tr>\n",
       "      <th>1</th>\n",
       "      <td><img src=\"data:image/png;base64,iVBORw0KGgoAAAANSUhEUgAAABwAAAAcCAAAAABXZoBIAAAAsElEQVR4nGNgGBmAEV2AWYmB4dFPGM8PIcEXsm3PwX///tXAdXJ+h7DEXNXtbRnObfQxZfjBhW7etX////1fK8aQ9O//DAzbr3495i3PxFD69d9dSQxJDxUGBgYGv2//7inicHzp538PVXHI+f78d8cTh5z3p38PcOnz/v3vNi77fD/9+6eBQ0724r8XwRihCQEij/49sMehj8H+3y8rXHIM+l/W4ZRjYJDjwyNJPwAAPyY7Tt0Fy24AAAAASUVORK5CYII=\" style=\"width: 28px; height: 28px;\"></td>\n",
       "      <td>0</td>\n",
       "      <td>0</td>\n",
       "      <td>0</td>\n",
       "      <td>0</td>\n",
       "      <td>0</td>\n",
       "      <td>0</td>\n",
       "      <td>0</td>\n",
       "      <td>1</td>\n",
       "      <td>0</td>\n",
       "      <td>0</td>\n",
       "    </tr>\n",
       "    <tr>\n",
       "      <th>2</th>\n",
       "      <td><img src=\"data:image/png;base64,iVBORw0KGgoAAAANSUhEUgAAABwAAAAcCAAAAABXZoBIAAAAxklEQVR4nGNgGDaAkYGBgYGBQ5TBmlGVgYGB4feSZ3/RlKz4hwAbhNF0rpf9CeUzmzH4bkXVycUKY7Ec/NeN0w38//6ZwjlM+FyLLhmAzGFBkxRkeHSbwZuDgYFhLZqkJodQKYPMQwYexi/n1yHp5LZXc5HWYGdgYGD4/3TXtnt3kfSIvISEwMN//1BsZWBgYGDgu/WvvVhMWFju6T9hDEkGr2gOBgYGBobz2CRhAEUS3Z+fGBlwS67/j0cSLxCyZiZFOVkAAODUPBUEIEWEAAAAAElFTkSuQmCC\" style=\"width: 28px; height: 28px;\"></td>\n",
       "      <td>0</td>\n",
       "      <td>0</td>\n",
       "      <td>0</td>\n",
       "      <td>0</td>\n",
       "      <td>0</td>\n",
       "      <td>0</td>\n",
       "      <td>0</td>\n",
       "      <td>1</td>\n",
       "      <td>0</td>\n",
       "      <td>0</td>\n",
       "    </tr>\n",
       "    <tr>\n",
       "      <th>3</th>\n",
       "      <td><img src=\"data:image/png;base64,iVBORw0KGgoAAAANSUhEUgAAABwAAAAcCAAAAABXZoBIAAAAnklEQVR4nGNgGKaAUSr/8DM5rFIy2Yf//fv3RQSLlN7yH//uTZr2bx2mlOP9b/9m2nIxGPxrRAiyQGmRC1/XbPrHwMDA8B23k7b9E0BwmNAkJZE56JIMZz7jlJTRfPAXp5XZ/2xxG2v97yFuSclLj/A5iAGnJJ/5G9xKo//54tYZwvAYtyTDp9e4jb1+D7dc8f8ZKHwUY4UZ1uDWiQ4AcI0utkmbHA8AAAAASUVORK5CYII=\" style=\"width: 28px; height: 28px;\"></td>\n",
       "      <td>0</td>\n",
       "      <td>0</td>\n",
       "      <td>0</td>\n",
       "      <td>0</td>\n",
       "      <td>0</td>\n",
       "      <td>0</td>\n",
       "      <td>0</td>\n",
       "      <td>1</td>\n",
       "      <td>0</td>\n",
       "      <td>0</td>\n",
       "    </tr>\n",
       "    <tr>\n",
       "      <th>4</th>\n",
       "      <td><img src=\"data:image/png;base64,iVBORw0KGgoAAAANSUhEUgAAABwAAAAcCAAAAABXZoBIAAAA10lEQVR4nGNgGDaAEUbnMDAwMP4XqSn8v+khqhLRuJt//vz58/fPnz9//zxu00KR3PDnD0Lyz5973dxIxt5UZmBoeQNRWCPCwPjfeydCp9b8P38uyUM5qn/+/nFHNpe1/NKfGnm45HNjVDfJHz4Mlez583ceLs9p3f2znx+X5K2/f0NwycV9/3MJl5zolT+P5HFJTvj7pwWXXPLf//c0cRl68s9fc5yu+fNnPRcuyZt//tghcZmQ5VarMK4z8MOh8e+fP7jt/Pvnz59ZuOz8++fPClzOwQAARjdjt+VWv/oAAAAASUVORK5CYII=\" style=\"width: 28px; height: 28px;\"></td>\n",
       "      <td>0</td>\n",
       "      <td>0</td>\n",
       "      <td>0</td>\n",
       "      <td>0</td>\n",
       "      <td>0</td>\n",
       "      <td>0</td>\n",
       "      <td>0</td>\n",
       "      <td>1</td>\n",
       "      <td>0</td>\n",
       "      <td>0</td>\n",
       "    </tr>\n",
       "    <tr>\n",
       "      <th>5</th>\n",
       "      <td><img src=\"data:image/png;base64,iVBORw0KGgoAAAANSUhEUgAAABwAAAAcCAAAAABXZoBIAAAAx0lEQVR4nGNgGImATbi1dc6/f9eCMaW42o7++/v379+/f+dABFjgUjJGJdYMDH/vM3BKY+hqf/X379+/33wYuJL+/m1FkeOc/ffv3wfH2lwZGPz+/j3AhSrZsyXCRoGNgYHB/tXfxRo43Mu59+9iHhxy3Hf/XubCIcfg+PedNS4565+fLHDJOfz8aYJLjuvF34W45EwP/d2ES45h2d8Xhrjkgj48w2mh0OWnZrjkBOv+NuC00PDvBHZccgKHHyvh1DjjmTYWUQCP/khwPrf4VAAAAABJRU5ErkJggg==\" style=\"width: 28px; height: 28px;\"></td>\n",
       "      <td>0</td>\n",
       "      <td>0</td>\n",
       "      <td>0</td>\n",
       "      <td>0</td>\n",
       "      <td>0</td>\n",
       "      <td>0</td>\n",
       "      <td>0</td>\n",
       "      <td>1</td>\n",
       "      <td>0</td>\n",
       "      <td>0</td>\n",
       "    </tr>\n",
       "    <tr>\n",
       "      <th>6</th>\n",
       "      <td><img src=\"data:image/png;base64,iVBORw0KGgoAAAANSUhEUgAAABwAAAAcCAAAAABXZoBIAAAA0ElEQVR4nGNgGMZAofHvAX5sEqJxN289/vPn73wMGTbVbSf//Pn758+fvz7ocowVEIk/f/78VUaVss998efP3z/r+vVf/PkzAVXO8+2fP38ubeniYnj5588lEagoC4T6//92y5sbDxkYREX+/+p6g2ajHdS55/5eisHlyW1/L4jgksv89AennP+nP89xyTHs//NcD4eUwP7/9zRx6fP787cLl9ycF3/Wc+GQs3/7548dDjnGv39v4jKTofbPc3dcctJ3/2DEIRyo/tmLNWngAQAeml6TwYT+GAAAAABJRU5ErkJggg==\" style=\"width: 28px; height: 28px;\"></td>\n",
       "      <td>0</td>\n",
       "      <td>0</td>\n",
       "      <td>0</td>\n",
       "      <td>0</td>\n",
       "      <td>0</td>\n",
       "      <td>0</td>\n",
       "      <td>0</td>\n",
       "      <td>1</td>\n",
       "      <td>0</td>\n",
       "      <td>0</td>\n",
       "    </tr>\n",
       "    <tr>\n",
       "      <th>7</th>\n",
       "      <td><img src=\"data:image/png;base64,iVBORw0KGgoAAAANSUhEUgAAABwAAAAcCAAAAABXZoBIAAAAsUlEQVR4nGNgGDaAkYGBQfSg+mwoN+0/47o363ciKbC9+ucvFEJYQVAJFgYGhsPamrYMDAxv1kGETE6KIEkyMFy/jmRQwH88zvj/Nw2nnObfPyI4JRf/a8at8fNfIxibCV3Sg+vxI5waX/4JxGlq9b+XOOVE7//Nxyk54+8D3P54+WcRTrm0f381cUpu/7samYviT245xhs4NRr/eSmH01jjv/+ubsclKf/i7xXcPkEDAFbpQ1BivwiyAAAAAElFTkSuQmCC\" style=\"width: 28px; height: 28px;\"></td>\n",
       "      <td>0</td>\n",
       "      <td>0</td>\n",
       "      <td>0</td>\n",
       "      <td>0</td>\n",
       "      <td>0</td>\n",
       "      <td>0</td>\n",
       "      <td>0</td>\n",
       "      <td>1</td>\n",
       "      <td>0</td>\n",
       "      <td>0</td>\n",
       "    </tr>\n",
       "    <tr>\n",
       "      <th>8</th>\n",
       "      <td><img src=\"data:image/png;base64,iVBORw0KGgoAAAANSUhEUgAAABwAAAAcCAAAAABXZoBIAAAA2UlEQVR4nGNgGBmAEZVbyVDOe3c+w+Yr6OoEs3d8+Pvnz58/f/7cRpPyrnr2588fqOR7CyQZ38arX/78gUhe/PPnz0OIMAsDAwMDw2IeBgYGBoabT2oYGFQWMzBMR5ZkeHNvuvuJa7eeMDAwyDAwPFqAbKGPEYK9+s/nHFx+m/DuTzEOKXa3jz9aZXBIVv75swaXmQ7//14UxSHH++3veVxyXGv+XIzBpW/Fnz+45LQv/PloikOOf9mfM3a4zFz2eb8sLreseL4RhxQD25qPRrjkGDaeEsYmDAATb1v5RBjtwwAAAABJRU5ErkJggg==\" style=\"width: 28px; height: 28px;\"></td>\n",
       "      <td>0</td>\n",
       "      <td>0</td>\n",
       "      <td>0</td>\n",
       "      <td>0</td>\n",
       "      <td>0</td>\n",
       "      <td>0</td>\n",
       "      <td>0</td>\n",
       "      <td>1</td>\n",
       "      <td>0</td>\n",
       "      <td>0</td>\n",
       "    </tr>\n",
       "    <tr>\n",
       "      <th>9</th>\n",
       "      <td><img src=\"data:image/png;base64,iVBORw0KGgoAAAANSUhEUgAAABwAAAAcCAAAAABXZoBIAAAAuklEQVR4nGNgGKaA3bn37P//M2FcRoSMLo+DsyMD438GBmZ0TfnHPv799/fv9c1//y7FMPHT379/95fICPj//asBE2OBMfyMGGZ/ZmBgsGe8+BSXk6Ru/u3H6d7p/16p4pR89O8oTjmDT3+8cUou+HsSp5zux79FSFwmFEkeHpz6GFi2/PuEU9Ls798SnJK9f//KIPNR7WTY8hynzrP/LFD4yDqlDP9L4tQo+e/vazGcsmeepGMkApwAAHfpPaNnPZwVAAAAAElFTkSuQmCC\" style=\"width: 28px; height: 28px;\"></td>\n",
       "      <td>0</td>\n",
       "      <td>0</td>\n",
       "      <td>0</td>\n",
       "      <td>0</td>\n",
       "      <td>0</td>\n",
       "      <td>0</td>\n",
       "      <td>0</td>\n",
       "      <td>1</td>\n",
       "      <td>0</td>\n",
       "      <td>0</td>\n",
       "    </tr>\n",
       "  </tbody>\n",
       "</table>"
      ],
      "text/plain": [
       "<IPython.core.display.HTML object>"
      ]
     },
     "metadata": {},
     "output_type": "display_data"
    }
   ],
   "source": [
    "# チェックするデータの数\n",
    "num_samples = 10\n",
    "\n",
    "# チェックする手書きの数字\n",
    "choose_label_class = 7\n",
    "\n",
    "mn.display_mnist_samples(choose_label_class, n=num_samples)"
   ]
  },
  {
   "cell_type": "markdown",
   "id": "e399f260-654d-4a8a-bec5-6340d2389af3",
   "metadata": {},
   "source": [
    "<hr style=\"border-top: 2px solid #71EB8B;\">"
   ]
  },
  {
   "cell_type": "markdown",
   "id": "e7f78974-5f79-4e21-8fa1-6f229ebffade",
   "metadata": {
    "tags": []
   },
   "source": [
    "## <span style=\"color:#E5004C\"> データセットの前処理 </span>\n",
    "\n",
    "\n",
    "AIモデルの訓練に適した形式にデータセットを前処理します。  \n",
    "これには、正規化(0-255の値を0-1の値の範囲に収まるようにする)や形状の調整が含まれます。"
   ]
  },
  {
   "cell_type": "code",
   "execution_count": 8,
   "id": "ab92b502-f659-4366-b850-605563baa227",
   "metadata": {
    "tags": []
   },
   "outputs": [],
   "source": [
    "# モデルに学習させるために、データセットの前処理を行う\n",
    "x_train, y_train, x_test, y_test = mn.preprocess()"
   ]
  },
  {
   "cell_type": "markdown",
   "id": "a2c67db2-2c65-40e6-96aa-cfb1bf84f0c3",
   "metadata": {},
   "source": [
    "<hr style=\"border-top: 2px solid #71EB8B;\">"
   ]
  },
  {
   "cell_type": "markdown",
   "id": "07d04df9-8614-4434-8cea-b4cadd0c7bff",
   "metadata": {
    "tags": []
   },
   "source": [
    "## <span style=\"color:#E5004C\"> AIの構築 </span>\n",
    "<p style=\"font-weight: bold; color: black; border: 3px solid #71EB8B; padding: 5px; display: inline-block;\">\n",
    "    参照: スライド 20ページ\n",
    "</p>\n",
    "\n",
    "ここでは、ニューラルネットワークモデル(AI)を構築します。AIのアーキテクチャを定義し、学習の準備を行います。  \n",
    "\n",
    "<span style=\"color: blue; \"> ★ </span> ***やってみよう！***  \n",
    "スライドを参考に、正しい選択肢を選んでAIを構築してください。  \n",
    "構築できたら、作ったAIの詳細が表示されます。\n",
    "\n",
    "<img src=\"img/work_build_model.png\" style=\"display: inline-block; vertical-align: middle; width: 600px; height: auto;\" />"
   ]
  },
  {
   "cell_type": "code",
   "execution_count": 10,
   "id": "bcb8df49-c378-43b4-b9e2-25ee66fab979",
   "metadata": {
    "tags": []
   },
   "outputs": [
    {
     "data": {
      "text/html": [
       "<p style='color: green;'>モデルの構築が完了しました！</p>"
      ],
      "text/plain": [
       "<IPython.core.display.HTML object>"
      ]
     },
     "metadata": {},
     "output_type": "display_data"
    },
    {
     "data": {
      "text/html": [
       "<img src='model.png'>"
      ],
      "text/plain": [
       "<IPython.core.display.HTML object>"
      ]
     },
     "metadata": {},
     "output_type": "display_data"
    }
   ],
   "source": [
    "## AIを構築する\n",
    "mn.build_model()"
   ]
  },
  {
   "cell_type": "markdown",
   "id": "166a0c71-a81e-422f-9efa-60646c27c6a7",
   "metadata": {
    "tags": []
   },
   "source": [
    "モデルの詳細がみれたでしょうか？  \n",
    "詳細がみれたら、最後から4番目あたりから、`Flatten`や`Dense`が最後の方にあるか確認してみましょう。  \n",
    "なお、最初の部分には、今回は講義で触れていない`Conv2D`や`MaxPooling2D`があると思いますが  \n",
    "ワークの最後に作るゲームのために、AIの精度を少しでも上げたいので、画像分類に特化したニューラルネットワークを使っているためというのが理由です。  \n",
    "普通の分類であれば、今回講義で習った`Flatten`と`Dense`の組み合わせでも十分精度を出すことができます。"
   ]
  },
  {
   "cell_type": "markdown",
   "id": "22c88fd1-efbd-4292-befd-cdba0902d7f7",
   "metadata": {
    "tags": []
   },
   "source": [
    "<hr style=\"border-top: 2px solid #71EB8B;\">"
   ]
  },
  {
   "cell_type": "markdown",
   "id": "e4d0e9d8-88b6-465b-a6f8-252acaf9ff09",
   "metadata": {
    "tags": []
   },
   "source": [
    "## <span style=\"color:#E5004C\"> AIの学習 </span>\n",
    "\n",
    "<p style=\"font-weight: bold; color: black; border: 3px solid #71EB8B; padding: 5px; display: inline-block;\">\n",
    "    参照: スライド 28-29ページ\n",
    "</p>\n",
    "<br>\n",
    "<img src=\"img/train_ai.png\" style=\"display: inline-block; vertical-align: middle; width: 600px; height: auto;\" />\n",
    "<br>\n",
    "<img src=\"img/train_ai_2.png\" style=\"display: inline-block; vertical-align: middle; width: 600px; height: auto;\" />\n",
    "\n",
    "構築したAIを使用して、データセットで学習を行います。  \n",
    "学習することによって、AIは数字を認識するためのパターンを学びます。"
   ]
  },
  {
   "cell_type": "code",
   "execution_count": 11,
   "id": "33ed6882-7bba-46e3-97e1-d2e1cf3f1b1e",
   "metadata": {
    "tags": []
   },
   "outputs": [
    {
     "name": "stdout",
     "output_type": "stream",
     "text": [
      "Epoch 1/100\n",
      "1874/1875 [============================>.] - ETA: 0s - loss: 0.2028 - accuracy: 0.9388\n",
      "-------------------------------------------------------------------------------------------------\n",
      "エポック 1: 学習時の損失 = 0.2028, 学習時の正解率 = 93.89%, テスト時の損失 = 0.0473, テスト時の正解率 = 98.46%\n",
      "-------------------------------------------------------------------------------------------------\n",
      "1875/1875 [==============================] - 8s 3ms/step - loss: 0.2028 - accuracy: 0.9389 - val_loss: 0.0473 - val_accuracy: 0.9846\n",
      "Epoch 2/100\n",
      "1858/1875 [============================>.] - ETA: 0s - loss: 0.0837 - accuracy: 0.9746\n",
      "-------------------------------------------------------------------------------------------------\n",
      "エポック 2: 学習時の損失 = 0.0838, 学習時の正解率 = 97.46%, テスト時の損失 = 0.0422, テスト時の正解率 = 98.45%\n",
      "-------------------------------------------------------------------------------------------------\n",
      "1875/1875 [==============================] - 5s 3ms/step - loss: 0.0838 - accuracy: 0.9746 - val_loss: 0.0422 - val_accuracy: 0.9845\n",
      "Epoch 3/100\n",
      "1867/1875 [============================>.] - ETA: 0s - loss: 0.0612 - accuracy: 0.9821\n",
      "-------------------------------------------------------------------------------------------------\n",
      "エポック 3: 学習時の損失 = 0.0611, 学習時の正解率 = 98.21%, テスト時の損失 = 0.0330, テスト時の正解率 = 98.91%\n",
      "-------------------------------------------------------------------------------------------------\n",
      "1875/1875 [==============================] - 5s 3ms/step - loss: 0.0611 - accuracy: 0.9821 - val_loss: 0.0330 - val_accuracy: 0.9891\n",
      "Epoch 4/100\n",
      "1865/1875 [============================>.] - ETA: 0s - loss: 0.0522 - accuracy: 0.9835\n",
      "-------------------------------------------------------------------------------------------------\n",
      "エポック 4: 学習時の損失 = 0.0523, 学習時の正解率 = 98.35%, テスト時の損失 = 0.0275, テスト時の正解率 = 99.09%\n",
      "-------------------------------------------------------------------------------------------------\n",
      "1875/1875 [==============================] - 5s 3ms/step - loss: 0.0523 - accuracy: 0.9835 - val_loss: 0.0275 - val_accuracy: 0.9909\n",
      "Epoch 5/100\n",
      "1867/1875 [============================>.] - ETA: 0s - loss: 0.0437 - accuracy: 0.9866\n",
      "-------------------------------------------------------------------------------------------------\n",
      "エポック 5: 学習時の損失 = 0.0438, 学習時の正解率 = 98.66%, テスト時の損失 = 0.0377, テスト時の正解率 = 98.79%\n",
      "-------------------------------------------------------------------------------------------------\n",
      "1875/1875 [==============================] - 5s 3ms/step - loss: 0.0438 - accuracy: 0.9866 - val_loss: 0.0377 - val_accuracy: 0.9879\n",
      "Epoch 6/100\n",
      "1869/1875 [============================>.] - ETA: 0s - loss: 0.0401 - accuracy: 0.9876\n",
      "-------------------------------------------------------------------------------------------------\n",
      "エポック 6: 学習時の損失 = 0.0402, 学習時の正解率 = 98.76%, テスト時の損失 = 0.0335, テスト時の正解率 = 99.05%\n",
      "-------------------------------------------------------------------------------------------------\n",
      "1875/1875 [==============================] - 5s 3ms/step - loss: 0.0402 - accuracy: 0.9876 - val_loss: 0.0335 - val_accuracy: 0.9905\n",
      "\n",
      "\u001b[1m\u001b[31m学習が完了しました！\n",
      "\n"
     ]
    }
   ],
   "source": [
    "# 構築したAIを使って学習させる\n",
    "history, model = mn.train(x_train, y_train, x_test, y_test)"
   ]
  },
  {
   "cell_type": "markdown",
   "id": "419a2d87-8843-4060-b789-a262242764c2",
   "metadata": {
    "tags": []
   },
   "source": [
    "<hr style=\"border-top: 2px solid #71EB8B;\">"
   ]
  },
  {
   "cell_type": "markdown",
   "id": "5a0d3728-6dfe-4dbc-8a12-0440c851fbc1",
   "metadata": {
    "tags": []
   },
   "source": [
    "## <span style=\"color:#E5004C\"> AIの評価 </span>  \n",
    "<p style=\"font-weight: bold; color: black; border: 3px solid #71EB8B; padding: 5px; display: inline-block;\">\n",
    "    参照: スライド 30-31ページ\n",
    "</p>\n",
    "<br>\n",
    "<img src=\"img/train_graph.png\" style=\"display: inline-block; vertical-align: middle; width: 600px; height: auto;\" />\n",
    "<br>\n",
    "<<img src=\"img/predict_result.png\" style=\"display: inline-block; vertical-align: middle; width: 600px; height: auto;\" />>\n",
    "\n",
    "\n",
    "### 学習過程の可視化\n",
    "学習の進捗をグラフで確認してモデルを評価します。  \n",
    "これには、精度(正解率)と損失の推移が含まれ、作ったAIの性能を把握するのに役立ちます。"
   ]
  },
  {
   "cell_type": "code",
   "execution_count": 12,
   "id": "9d798eb3-fa32-480f-8d9f-bf805520c957",
   "metadata": {
    "tags": []
   },
   "outputs": [
    {
     "data": {
      "image/png": "[encoded data removed]",
      "text/plain": [
       "<Figure size 1300x400 with 2 Axes>"
      ]
     },
     "metadata": {},
     "output_type": "display_data"
    }
   ],
   "source": [
    "# 学習の経過をグラフで確認する\n",
    "mn.show_train_graph(history)"
   ]
  },
  {
   "cell_type": "markdown",
   "id": "95520895-5ac3-46f9-b55a-ea2d77d728fd",
   "metadata": {},
   "source": [
    "学習とテストが両方とも損失が下がっていき、また正解率も良くなっていっていることが確認できたでしょうか？"
   ]
  },
  {
   "cell_type": "markdown",
   "id": "aa8e015d-25fc-4a95-b65c-28f8d97ea764",
   "metadata": {},
   "source": [
    "### テストデータを使った予測\n",
    "\n",
    "テストデータセットを用いて、学習したモデルの性能を評価します。  \n",
    "ランダムに選んだサンプルでモデルの予測をテストします。  \n",
    "何回か実行してみて、予測結果と正解がどれくらい一致するか確認してみてください。"
   ]
  },
  {
   "cell_type": "code",
   "execution_count": 13,
   "id": "3071dcaf-f0eb-41e1-9a35-dfb5b45ebf45",
   "metadata": {
    "tags": []
   },
   "outputs": [
    {
     "name": "stdout",
     "output_type": "stream",
     "text": [
      "1/1 [==============================] - 0s 121ms/step\n"
     ]
    },
    {
     "data": {
      "image/png": "[encoded data removed]",
      "text/plain": [
       "<Figure size 1500x400 with 20 Axes>"
      ]
     },
     "metadata": {},
     "output_type": "display_data"
    }
   ],
   "source": [
    "# テストデータから10個ランダムにデータを選択\n",
    "num_samples = 10  # 表示するテスト結果\n",
    "\n",
    "mn.predict(num_samples)"
   ]
  },
  {
   "cell_type": "markdown",
   "id": "202b01dd-0138-45e2-b833-e8b33810de6e",
   "metadata": {
    "tags": []
   },
   "source": [
    "<hr style=\"border-top: 2px solid #71EB8B;\">"
   ]
  },
  {
   "cell_type": "markdown",
   "id": "1cc420d5-ed89-45a6-8405-0b75a1673bb3",
   "metadata": {},
   "source": [
    "## 【応用】手書き数字認識ゲームの作成\n",
    "\n",
    "最後に、Gradioを使用してインタラクティブな手書き数字認識ゲームを作成します。  \n",
    "下記のコードを実行したら、`Running on public URL`の右側にあるリンクをクリックしてみてください。  \n",
    "ゲームを開くことができるはずです。  \n",
    "自分の書いた手書き文字の正答率がスコアになります。 高得点を目指しましょう！\n"
   ]
  },
  {
   "cell_type": "code",
   "execution_count": 14,
   "id": "ec20f562-1752-42ff-8cd5-4a48feff8eaa",
   "metadata": {
    "tags": []
   },
   "outputs": [
    {
     "name": "stderr",
     "output_type": "stream",
     "text": [
      "/tmp/ipykernel_20144/4180405681.py:30: GradioDeprecationWarning: The `style` method is deprecated. Please set these arguments in the constructor instead.\n",
      "  image_input = gr.Image(\n"
     ]
    },
    {
     "name": "stdout",
     "output_type": "stream",
     "text": [
      "Running on local URL:  http://127.0.0.1:7861\n",
      "Running on public URL: https://9e1f98a12cca1c2523.gradio.live\n",
      "\n",
      "This share link expires in 72 hours. For free permanent hosting and GPU upgrades, run `gradio deploy` from Terminal to deploy to Spaces (https://huggingface.co/spaces)\n"
     ]
    },
    {
     "data": {
      "text/html": [
       "<div><iframe src=\"https://9e1f98a12cca1c2523.gradio.live\" width=\"100%\" height=\"500\" allow=\"autoplay; camera; microphone; clipboard-read; clipboard-write;\" frameborder=\"0\" allowfullscreen></iframe></div>"
      ],
      "text/plain": [
       "<IPython.core.display.HTML object>"
      ]
     },
     "metadata": {},
     "output_type": "display_data"
    },
    {
     "data": {
      "text/plain": []
     },
     "execution_count": 14,
     "metadata": {},
     "output_type": "execute_result"
    },
    {
     "name": "stdout",
     "output_type": "stream",
     "text": [
      "1/1 [==============================] - 0s 100ms/step\n",
      "1/1 [==============================] - 0s 52ms/step\n",
      "1/1 [==============================] - 0s 31ms/step\n",
      "1/1 [==============================] - 0s 31ms/step\n",
      "1/1 [==============================] - 0s 16ms/step\n",
      "1/1 [==============================] - 0s 16ms/step\n",
      "1/1 [==============================] - 0s 16ms/step\n",
      "1/1 [==============================] - 0s 16ms/step\n",
      "1/1 [==============================] - 0s 16ms/step\n",
      "1/1 [==============================] - 0s 16ms/step\n"
     ]
    }
   ],
   "source": [
    "# 必要なライブラリをインポートします\n",
    "from utils import mnist_game  # ユーティリティライブラリからmnist_gameをインポート\n",
    "import gradio as gr            # デモアプリを作るために必要なgradioライブラリをインポート\n",
    "import time                    # 時間関連の操作を行うためにtimeライブラリをインポート\n",
    "\n",
    "# JavaScriptコードを定義します（ブラウザでのポップアップに使用）\n",
    "js = \"(x) => confirm(x)\"\n",
    "\n",
    "# ゲーム用に使用するクラスを定義します\n",
    "game = mnist_game.HandwritingGame(model)\n",
    "\n",
    "# Gradioアプリケーションの構築を開始します\n",
    "with gr.Blocks(theme=gr.themes.Soft()) as app:\n",
    "    # ゲームのタイトルと説明を表示します\n",
    "    gr.Markdown(\"<div style='text-align: center;'><h1>手書き数字認識ゲーム</h1><h3>1分間に指示された数字を書いて高スコアを狙おう</h3></div>\")\n",
    "    \n",
    "    # 画面のレイアウトを設定します\n",
    "    with gr.Row():\n",
    "        # 画面の左側のレイアウトを設定します\n",
    "        with gr.Column(scale=5):\n",
    "            # ユーザー名を入力するためのテキストボックスを作成します\n",
    "            user_name = gr.Textbox(label=\"ユーザー名\")\n",
    "            # ゲーム開始とリセットのためのボタンを配置します\n",
    "            with gr.Row():\n",
    "                start_button = gr.Button(\"ゲーム開始\", variant=\"primary\")\n",
    "                reset_button = gr.Button(\"リセット\")\n",
    "            # ゲームの説明や指示を表示するためのテキストボックスを配置します\n",
    "            output1 = gr.Textbox(value=\"「ユーザー名」に名前を入力して「ゲーム開始」ボタンを押してください。\", label=\"説明\", interactive=False)\n",
    "            # ユーザーが数字を描くためのキャンバスを配置します\n",
    "            image_input = gr.Image(\n",
    "                source=\"canvas\",\n",
    "                shape=(200, 200),\n",
    "                image_mode='L',\n",
    "                tool='color-sketch',\n",
    "                invert_colors=True\n",
    "            ).style(width=800, height=400)\n",
    "            # 判定とクリアのためのボタンを配置します\n",
    "            with gr.Row():\n",
    "                submit_button = gr.Button(\"判定\", variant=\"primary\")\n",
    "                clear_button = gr.Button(\"クリア\")\n",
    "            # 判定結果を表示するためのテキストボックスを配置します\n",
    "            output2 = gr.Textbox(label=\"結果\", interactive=False)\n",
    "        # 画面の右側のレイアウトを設定します\n",
    "        with gr.Column(scale=5):\n",
    "            # モデルの予測結果を表示するためのラベルを配置します\n",
    "            output3 = gr.Label(label='予測結果', num_top_classes=5, scale=2)\n",
    "            # スコアボードとランキングを表示するためのテキストボックスを配置します\n",
    "            with gr.Row():\n",
    "                score_board = gr.Textbox(label=\"スコア\", value=\"\", lines=15, scale=1)\n",
    "                total_ranking = gr.Textbox(label=\"ランキング\", value=\"\", lines=15, scale=2)\n",
    "\n",
    "    # それぞれのボタンに対して、クリックされたタイミングで実行される処理を定義します\n",
    "    start_button.click(fn=game.start_game, inputs=[output2, user_name, gr.State(False)], outputs=[output1, total_ranking])\n",
    "    reset_button.click(fn=game.start_game, inputs=[output2, user_name, gr.State(True)], outputs=[output1, total_ranking])\n",
    "    clear_button.click(fn=lambda x: None, inputs=image_input, outputs=image_input)\n",
    "    submit_button.click(\n",
    "        fn=game.recognize_drawing,\n",
    "        inputs=[output1, output2, image_input],\n",
    "        outputs=[output1, output2, output3, image_input, score_board]\n",
    "    )\n",
    "    # 「説明」のテキストボックスと「結果」のテキストボックスに文字が入力された場合に、実行される処理を定義します\n",
    "    output1.change(\n",
    "        fn=None, inputs=output1, outputs=None, _js=js\n",
    "    )\n",
    "    output2.change(\n",
    "        fn=game.start_game, inputs=output2, outputs=[output1, total_ranking], _js=js if time.time() > game.end_time else None\n",
    "    )\n",
    "\n",
    "# Gradioアプリケーションを起動します\n",
    "\n",
    "app.queue().launch(share=True, server_port=7861)"
   ]
  },
  {
   "cell_type": "code",
   "execution_count": null,
   "id": "31bc0c54-22ae-4261-8893-bf7a3cd001c8",
   "metadata": {},
   "outputs": [],
   "source": []
  },
  {
   "cell_type": "code",
   "execution_count": null,
   "id": "075cc31e-24c8-4b1b-9891-45d8f5ec34c1",
   "metadata": {},
   "outputs": [],
   "source": []
  },
  {
   "cell_type": "code",
   "execution_count": null,
   "id": "93282051-4b4f-43e0-b3bf-6a1ad771b29f",
   "metadata": {},
   "outputs": [],
   "source": []
  }
 ],
 "metadata": {
  "environment": {
   "kernel": "python3",
   "name": "tf2-gpu.2-13.m113",
   "type": "gcloud",
   "uri": "gcr.io/deeplearning-platform-release/tf2-gpu.2-13:m113"
  },
  "kernelspec": {
   "display_name": "conda_tensorflow2_p310",
   "language": "python",
   "name": "conda_tensorflow2_p310"
  },
  "language_info": {
   "codemirror_mode": {
    "name": "ipython",
    "version": 3
   },
   "file_extension": ".py",
   "mimetype": "text/x-python",
   "name": "python",
   "nbconvert_exporter": "python",
   "pygments_lexer": "ipython3",
   "version": "3.10.13"
  }
 },
 "nbformat": 4,
 "nbformat_minor": 5
}

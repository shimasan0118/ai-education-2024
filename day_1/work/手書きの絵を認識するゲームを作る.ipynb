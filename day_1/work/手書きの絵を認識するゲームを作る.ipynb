{
 "cells": [
  {
   "cell_type": "markdown",
   "id": "743ad5a5-2261-48dd-94e6-f129dbe9ba52",
   "metadata": {},
   "source": [
    "<h1 style=\"display: inline-block; margin-right: -30px;\">手書き絵認識AIを構築してみよう</h1>\n",
    "<img src=\"img/magician.png\" style=\"display: inline-block; vertical-align: middle; width: 80px; height: auto;\" />"
   ]
  },
  {
   "cell_type": "markdown",
   "id": "d9fae7e0-ce1c-4555-99af-39d684f7ff3c",
   "metadata": {},
   "source": [
    "このワークブックでは、`quickdraw-small` データセットを使用して、手書き絵を認識するAIモデルを構築します。  \n",
    "データセットの分析から始め、学習済みモデルのロード、テストデータセットでの予測、そしてGradioを用いたインタラクティブなゲームの作成までを行います。"
   ]
  },
  {
   "cell_type": "markdown",
   "id": "af55fe52-bf1b-4ed9-9a4b-81544a4104c5",
   "metadata": {},
   "source": [
    "## 目次\n",
    "- データセットの準備と分析\n",
    "    - データセットの概要確認\n",
    "    - 学習用データセットの分布確認\n",
    "    - データセットの中身確認\n",
    "    - 特定のクラスのデータ確認\n",
    "- 学習済みモデルのロード\n",
    "    - 学習済みモデルの構造の表示\n",
    "- AIの評価\n",
    "- 【応用】手書き絵認識ゲームの作成"
   ]
  },
  {
   "cell_type": "markdown",
   "id": "ca511f8c-6b41-485f-bc89-a29675dc9f51",
   "metadata": {},
   "source": [
    "<hr style=\"border-top: 2px solid #71EB8B;\">"
   ]
  },
  {
   "cell_type": "markdown",
   "id": "a7c84e6a-dd92-4cc0-b01f-a12853b512a9",
   "metadata": {},
   "source": [
    "## <span style=\"color:#E5004C\"> データセットの準備と分析 <span>\n",
    "\n",
    "まずは必要なライブラリをインポートし、データセットを準備します。  "
   ]
  },
  {
   "cell_type": "code",
   "execution_count": null,
   "id": "05219f89-6d57-438d-a6e1-df0a2ac54c3f",
   "metadata": {
    "tags": []
   },
   "outputs": [],
   "source": [
    "# 必要なライブラリをインストールします\n",
    "! pip install datasets\n",
    "! pip install onnxruntime\n",
    "! pip install torch\n",
    "! pip install packaging==22\n",
    "! pip install japanize_matplotlib\n",
    "! pip install gradio==3.50.0\n",
    "! pip install sqlalchemy\n",
    "! pip install pymysql\n",
    "! pip install google-cloud-storage"
   ]
  },
  {
   "cell_type": "code",
   "execution_count": null,
   "id": "264e90eb-b8c2-43c5-9d29-a238a1d68486",
   "metadata": {
    "tags": []
   },
   "outputs": [],
   "source": [
    "from IPython.display import HTML #ディスプレイ表示に使用するものをインポート\n",
    "from utils.quick_draw import QuickDrawModel # ユーティリティライブラリからQuickDrawModelをインポート"
   ]
  },
  {
   "cell_type": "markdown",
   "id": "40ad08fa-d53c-492c-86ea-592d92fc2754",
   "metadata": {
    "tags": []
   },
   "source": [
    "データセットをロードしたり、モデルを構築したりするために必要なクラスを定義します。  \n",
    "今回使用する`quickdraw-small`は多様な手書き絵を含むデータセットで、AIモデルの訓練に広く使用されています。"
   ]
  },
  {
   "cell_type": "code",
   "execution_count": null,
   "id": "d87a82bb-ec08-4ea5-a911-81a1858bebdf",
   "metadata": {
    "tags": []
   },
   "outputs": [],
   "source": [
    "# 手書き絵の認識モデル(AI)に関するクラスを定義\n",
    "qd = QuickDrawModel()"
   ]
  },
  {
   "cell_type": "markdown",
   "id": "32485ea3-ac9f-41df-ac64-9c1a710e4b2b",
   "metadata": {},
   "source": [
    "### データセットの概要確認\n",
    "\n",
    "では、MNISTデータセットの時と同じように、学習用データセットとテストデータセットの総数を確認してみましょう。  \n",
    "これにより、データセットの大きさを把握できます。\n"
   ]
  },
  {
   "cell_type": "code",
   "execution_count": null,
   "id": "7547c570-b69e-47cb-b0a3-3eca5e2a8e26",
   "metadata": {
    "tags": []
   },
   "outputs": [],
   "source": [
    "# 学習用とテストデータの総数を確認\n",
    "qd.show_dataset_num()"
   ]
  },
  {
   "cell_type": "markdown",
   "id": "7df9f311-9e37-476e-b9af-f4357a837482",
   "metadata": {},
   "source": [
    "結果を見てみると、今回のデータセットは前回のMNISTと比べてデータ数、クラス数共にかなりの量になっていることがわかります"
   ]
  },
  {
   "cell_type": "markdown",
   "id": "510d3ce7-2728-4f89-83ec-5487cec8eb41",
   "metadata": {},
   "source": [
    "### 学習用データセットの分布確認\n",
    "\n",
    "また同じように、学習用データセット内で各クラスがどのように分布しているかをグラフを使って視覚化してみましょう。  \n",
    "各クラスが均等になっていることが理想的です。\n"
   ]
  },
  {
   "cell_type": "code",
   "execution_count": null,
   "id": "d331e7e8-3ba5-4f1d-abd7-5ef7d736f24a",
   "metadata": {
    "tags": []
   },
   "outputs": [],
   "source": [
    "# 学習用データセットの分布を確認\n",
    "qd.show_dataset_graph()"
   ]
  },
  {
   "cell_type": "markdown",
   "id": "57f01149-77d5-4e31-8b69-3b522f93905b",
   "metadata": {},
   "source": [
    "こちらも結構ばらつきがありそうですが、一番少ないデータのクラスでも10000以上はあるので学習に大きな支障はなさそうです。"
   ]
  },
  {
   "cell_type": "markdown",
   "id": "cedfabb6-fa89-437f-9d79-5ae5d3b8253d",
   "metadata": {},
   "source": [
    "### テスト用データセットの分布確認\n",
    "\n",
    "テスト用データセットのクラス分布を確認してみましょう。"
   ]
  },
  {
   "cell_type": "code",
   "execution_count": null,
   "id": "1b132fa1-736f-41b4-83eb-27fde924ccf0",
   "metadata": {
    "tags": []
   },
   "outputs": [],
   "source": [
    "# テスト用データセットの分布を確認\n",
    "qd.show_dataset_graph(dataset_type='test')"
   ]
  },
  {
   "cell_type": "markdown",
   "id": "5db976ce-faa6-4fda-b1cb-4ab8db40f786",
   "metadata": {},
   "source": [
    "上の学習のデータセットのグラフと見比べてみても、テストデータで分布が変わったりはしていなさそうです。"
   ]
  },
  {
   "cell_type": "markdown",
   "id": "28c93bd8-c7cd-4a1e-a9e4-4c12477f7dd1",
   "metadata": {},
   "source": [
    "### データセットの中身確認\n",
    "\n",
    "次に、実際にデータセットの画像を表示してみましょう。  \n",
    "ランダムに選ばれた画像を通じて、データセットに含まれる絵の種類を確認していきましょう。"
   ]
  },
  {
   "cell_type": "code",
   "execution_count": null,
   "id": "070cb60a-2dd6-45ff-a605-e6a306a2ee36",
   "metadata": {
    "tags": []
   },
   "outputs": [],
   "source": [
    "# データセットを確認\n",
    "# 何回か実行してデータセットにどういった絵が存在するか確認してみてください。\n",
    "qd.show_random_images_and_labels(10)"
   ]
  },
  {
   "cell_type": "markdown",
   "id": "00b71cda-b283-4658-a478-4599bf054ffd",
   "metadata": {},
   "source": [
    "何回か実行してみて、どんなデータセットがあるのか確認してみてください。"
   ]
  },
  {
   "cell_type": "markdown",
   "id": "c01d4dbc-fb96-4bc9-8246-06cf20c2d1a9",
   "metadata": {},
   "source": [
    "### 特定のクラスのデータ確認\n",
    "\n",
    "先ほど、学習のデータセットの分布を確認した時に出力した、  \n",
    "最少データ数のクラス（例: ベッド）と最大データ数のクラス（例: 雪だるま）も確認してみましょう。  \n",
    "データセット内の特定のクラスの画像を詳しく見て、絵のバリエーションも確認してみましょう。"
   ]
  },
  {
   "cell_type": "code",
   "execution_count": null,
   "id": "06abad22-556b-4e5b-9deb-0882584e46fb",
   "metadata": {
    "tags": []
   },
   "outputs": [],
   "source": [
    "# データセットを確認\n",
    "# 学習用データの最小データ数だった「ベッド」ラベルを確認\n",
    "class_label = 'ベッド'\n",
    "qd.show_random_images_and_labels(10, class_label=class_label)"
   ]
  },
  {
   "cell_type": "code",
   "execution_count": null,
   "id": "20493112-a2d5-4674-94b2-68533b58bb04",
   "metadata": {
    "tags": []
   },
   "outputs": [],
   "source": [
    "# データセットを確認\n",
    "# 学習用データの最大データ数だった「雪だるま」ラベルを確認\n",
    "class_label = '雪だるま'\n",
    "qd.show_random_images_and_labels(10, class_label=class_label)"
   ]
  },
  {
   "cell_type": "markdown",
   "id": "272131a4-e160-4d6a-91dd-bc326a2b8937",
   "metadata": {},
   "source": [
    "また、好きなデータのラベルを入れて、データを確認してみましょう。"
   ]
  },
  {
   "cell_type": "markdown",
   "id": "96e5b9c8-1d61-4cc4-856a-78718b934ab2",
   "metadata": {},
   "source": [
    "<span style=\"color: blue; \"> ★ </span> ***やってみよう！***  \n",
    "`データセットの中身確認`で調べた絵の名前を`class_label`に入れて、どんな手書き絵があるか調べてみましょう。"
   ]
  },
  {
   "cell_type": "code",
   "execution_count": null,
   "id": "76b2a901-36ff-4409-bb06-3310c51a3e60",
   "metadata": {
    "tags": []
   },
   "outputs": [],
   "source": [
    "# データセットを確認\n",
    "# 変数class_labelに好きなデータのラベルを入れて確認してみてください\n",
    "class_label = ''\n",
    "qd.show_random_images_and_labels(10, class_label=class_label)"
   ]
  },
  {
   "cell_type": "markdown",
   "id": "4c0a2121-93da-49b2-a00a-7a4fde9c345a",
   "metadata": {},
   "source": [
    "<hr style=\"border-top: 2px solid #71EB8B;\">"
   ]
  },
  {
   "cell_type": "markdown",
   "id": "276a5aed-62d6-4a79-9fd7-d810ab458150",
   "metadata": {},
   "source": [
    "## <span style=\"color:#E5004C\"> 学習済みモデルのロード </span>\n",
    "\n",
    "今回のデータセットは大量のクラスを持つデータセットのため、学習には時間がかかります。  \n",
    "そこで、今回は予め訓練済みのモデルをロードして使用することとします。"
   ]
  },
  {
   "cell_type": "code",
   "execution_count": null,
   "id": "fc17c994-f175-4c1d-8843-90c4b1b631fc",
   "metadata": {
    "tags": []
   },
   "outputs": [],
   "source": [
    "# 学習済みモデルをロード\n",
    "path = \"speed_sketch_dash/models/model.onnx\"\n",
    "model = qd.load_pretrained_model(path)"
   ]
  },
  {
   "cell_type": "markdown",
   "id": "18158671-757c-49bd-94ec-033bfb6e7245",
   "metadata": {},
   "source": [
    "### 学習済みモデルの構造の表示\n",
    "\n",
    "ロードが完了したら、学習済みモデルの構造を確認してみましょう。\n"
   ]
  },
  {
   "cell_type": "code",
   "execution_count": null,
   "id": "b0252759-6681-4f05-bbb1-2e13e3890ba7",
   "metadata": {
    "tags": []
   },
   "outputs": [],
   "source": [
    "# 学習済みモデルを表示\n",
    "HTML(qd.plot_model())"
   ]
  },
  {
   "cell_type": "markdown",
   "id": "0846a97b-427d-41d9-9e3c-4bda60c2e2a1",
   "metadata": {},
   "source": [
    "MNISTで自分で用意したモデルより、かなり複雑になっていることがわかるかと思います。  \n",
    "ですが、1つ1つの部品を見ていくと、MNISTで作ったlayerを組み合わせながら作っていっていることがわかります。"
   ]
  },
  {
   "cell_type": "markdown",
   "id": "cf6f3afb-a7e6-417b-adb2-e7469384779b",
   "metadata": {},
   "source": [
    "<hr style=\"border-top: 2px solid #71EB8B;\">"
   ]
  },
  {
   "cell_type": "markdown",
   "id": "ee52c666-d324-469b-b5f5-3d4f760c6cb9",
   "metadata": {
    "tags": []
   },
   "source": [
    "## <span style=\"color:#E5004C\"> AIの評価 </span>\n",
    "### テストデータを使った予測\n",
    "今回は、学習済みモデルを使ったので、学習過程の可視化は行いません。  \n",
    "テストデータでの予測で、モデルの精度が問題ないか確認してみましょう。"
   ]
  },
  {
   "cell_type": "code",
   "execution_count": null,
   "id": "4f43ab63-bc39-47e4-9e80-5175282fb1bb",
   "metadata": {
    "tags": []
   },
   "outputs": [],
   "source": [
    "# 予測結果を確認\n",
    "qd.predict_and_show(model)"
   ]
  },
  {
   "cell_type": "markdown",
   "id": "5c7dd986-8f10-43f1-a3e0-be5bce2728bc",
   "metadata": {},
   "source": [
    "期待した精度は出ていそうでしょうか？\n",
    "何回か実行してみて、結果を確認してみてください。"
   ]
  },
  {
   "cell_type": "markdown",
   "id": "c78768ea-cca5-4d33-881d-ac8357b84fee",
   "metadata": {
    "tags": []
   },
   "source": [
    "<hr style=\"border-top: 2px solid #71EB8B;\">"
   ]
  },
  {
   "cell_type": "markdown",
   "id": "1f2cf64b-1a34-4096-981d-3e5199c2ee15",
   "metadata": {},
   "source": [
    "## 【応用】手書き絵認識ゲームの作成\n",
    "\n",
    "最後に、Gradioを使用してインタラクティブな手描き絵認識ゲームを作成します。これにより、学習したモデルを実際に試すことができます。  \n",
    "下記のコードを実行したら、`Running on public URL`の右側にあるリンクをクリックしてみてください。  \n",
    "ゲームを開いて、遊んでみましょう！\n"
   ]
  },
  {
   "cell_type": "code",
   "execution_count": null,
   "id": "c12f4df4-3f20-4090-9d90-aacc75dddf07",
   "metadata": {
    "tags": []
   },
   "outputs": [],
   "source": [
    "# 必要なライブラリをインポートします\n",
    "from utils import draw_game    # ユーティリティライブラリからdraw_gameをインポート\n",
    "import gradio as gr            # デモアプリを作るために必要なgradioライブラリをインポート\n",
    "import time                    # 時間関連の操作を行うためにtimeライブラリをインポート\n",
    "\n",
    "# JavaScriptコードを定義します（ブラウザでのポップアップに使用）\n",
    "js = \"(x) => confirm(x)\"\n",
    "\n",
    "# ゲーム用に使用するクラスを定義します\n",
    "game = draw_game.DrawGame(model)\n",
    "\n",
    "# Gradioアプリケーションの構築を開始します\n",
    "with gr.Blocks(theme=gr.themes.Soft()) as app:\n",
    "    # ゲームのタイトルと説明を表示します\n",
    "    gr.Markdown(\"<div style='text-align: center;'><h1>手描き絵認識ゲーム</h1><h3>3分間に指示された絵を書いて高スコアを狙おう</h3></div>\")\n",
    "    \n",
    "    # 画面のレイアウトを設定します\n",
    "    with gr.Row():\n",
    "        # 画面の左側のレイアウトを設定します\n",
    "        with gr.Column(scale=5):\n",
    "            # ユーザー名を入力するためのテキストボックスを作成します\n",
    "            user_name = gr.Textbox(label=\"ユーザー名\")\n",
    "            # ゲーム開始とリセットのためのボタンを配置します\n",
    "            with gr.Row():\n",
    "                start_button = gr.Button(\"ゲーム開始\", variant=\"primary\")\n",
    "                reset_button = gr.Button(\"リセット\")\n",
    "            # ゲームの説明や指示を表示するためのテキストボックスを配置します\n",
    "            output1 = gr.Textbox(value=\"「ユーザー名」に名前を入力して「ゲーム開始」ボタンを押してください。\", label=\"説明\", interactive=False)\n",
    "            # ユーザーが数字を描くためのキャンバスを配置します\n",
    "            image_input = gr.Image(\n",
    "                label=\"スケッチ\",\n",
    "                source=\"canvas\",\n",
    "                shape=(200, 200),\n",
    "                image_mode='L',\n",
    "                tool='color-sketch',\n",
    "                invert_colors=True\n",
    "            ).style(width=800, height=400)\n",
    "            # 判定とクリアのためのボタンを配置します\n",
    "            with gr.Row():\n",
    "                submit_button = gr.Button(\"判定\", variant=\"primary\")\n",
    "                clear_button = gr.Button(\"クリア\")\n",
    "            # 判定結果を表示するためのテキストボックスを配置します\n",
    "            output2 = gr.Textbox(label=\"結果\", interactive=False)\n",
    "        # 画面の右側のレイアウトを設定します\n",
    "        with gr.Column(scale=5):\n",
    "            # モデルの予測結果を表示するためのラベルを配置します\n",
    "            output3 = gr.Label(label='予測結果', num_top_classes=5, scale=2)\n",
    "            # スコアボードとランキングを表示するためのテキストボックスを配置します\n",
    "            with gr.Row():\n",
    "                score_board = gr.Textbox(label=\"スコア\", value=\"\", lines=15, scale=1)\n",
    "                total_ranking = gr.Textbox(label=\"ランキング\", value=\"\", lines=15, scale=2)\n",
    "\n",
    "    # それぞれのボタンに対して、クリックされたタイミングで実行される処理を定義します\n",
    "    start_button.click(fn=game.start_game, inputs=[output2, user_name, gr.State(False)], outputs=[output1, total_ranking])\n",
    "    reset_button.click(fn=game.start_game, inputs=[output2, user_name, gr.State(True)], outputs=[output1, total_ranking])\n",
    "    clear_button.click(fn=lambda x: None, inputs=image_input, outputs=image_input)\n",
    "    submit_button.click(\n",
    "        fn=game.recognize_drawing,\n",
    "        inputs=[output1, output2, image_input],\n",
    "        outputs=[output1, output2, output3, image_input, score_board]\n",
    "    )\n",
    "    # 「説明」のテキストボックスと「結果」のテキストボックスに文字が入力された場合に、実行される処理を定義します\n",
    "    output1.change(\n",
    "        fn=None, inputs=output1, outputs=None, _js=js\n",
    "    )\n",
    "    output2.change(\n",
    "        fn=game.start_game, inputs=output2, outputs=[output1, total_ranking], _js=js if time.time() > game.end_time else None\n",
    "    )\n",
    "\n",
    "# Gradioアプリケーションを起動します\n",
    "app.queue().launch(share=True, server_port=7865)"
   ]
  },
  {
   "cell_type": "code",
   "execution_count": null,
   "id": "cce1863f-00ba-42fa-9ec2-946f8ba6cc53",
   "metadata": {},
   "outputs": [],
   "source": []
  }
 ],
 "metadata": {
  "environment": {
   "kernel": "python3",
   "name": "tf2-gpu.2-13.m113",
   "type": "gcloud",
   "uri": "gcr.io/deeplearning-platform-release/tf2-gpu.2-13:m113"
  },
  "kernelspec": {
   "display_name": "conda_tensorflow2_p310",
   "language": "python",
   "name": "conda_tensorflow2_p310"
  },
  "language_info": {
   "codemirror_mode": {
    "name": "ipython",
    "version": 3
   },
   "file_extension": ".py",
   "mimetype": "text/x-python",
   "name": "python",
   "nbconvert_exporter": "python",
   "pygments_lexer": "ipython3",
   "version": "3.10.13"
  }
 },
 "nbformat": 4,
 "nbformat_minor": 5
}

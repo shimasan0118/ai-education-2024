{
 "cells": [
  {
   "cell_type": "markdown",
   "id": "cd98f832-5488-408d-86af-48dbbc480747",
   "metadata": {},
   "source": [
    "<h1 style=\"display: inline-block; margin-right: -30px;\">手書き数字認識AIを作ってみよう</h1>\n",
    "<img src=\"img/magician.png\" style=\"display: inline-block; vertical-align: middle; width: 80px; height: auto;\" />\n"
   ]
  },
  {
   "cell_type": "markdown",
   "id": "472caa91-4f9e-46bc-9341-a5112264d6a0",
   "metadata": {},
   "source": [
    "このワークブックでは、手書き数字を認識するAIを作成していきます。  \n",
    "MNISTデータセットを使用して、データの分析、前処理、モデルの訓練、予測を行います。  \n",
    "そして最後にGradioを用いたインタラクティブなゲームを作成してAIを構築する作業の一連のプロセスを学びます。"
   ]
  },
  {
   "cell_type": "markdown",
   "id": "99ed806d-f828-42cb-8a93-f5a255e51404",
   "metadata": {},
   "source": [
    "- データセットの準備と分析\n",
    "    - データセットの概要確認\n",
    "    - データセットの分布確認\n",
    "    - サンプルデータの表示\n",
    "    - 特定の数字のサンプル表示\n",
    "- データセットの前処理\n",
    "- AIの構築\n",
    "- AIの評価\n",
    "    - 学習過程の可視化\n",
    "    - テストデータを使った予測\n",
    "- 【応用】手書き数字認識ゲームの作成"
   ]
  },
  {
   "cell_type": "markdown",
   "id": "90e14511-feb3-4957-abd0-f858d19eb103",
   "metadata": {},
   "source": [
    "<hr style=\"border-top: 2px solid #71EB8B;\">"
   ]
  },
  {
   "cell_type": "markdown",
   "id": "06bdff8e-aa94-4e92-8934-d4ff59b70905",
   "metadata": {},
   "source": [
    "## <span style=\"color:#E5004C\"> データセットの準備と分析 <span>\n",
    "<p style=\"font-weight: bold; color: black; border: 3px solid #71EB8B; padding: 5px; display: inline-block;\">\n",
    "    参照: スライド 28ページ\n",
    "</p>\n",
    "\n",
    "まずは必要なライブラリをインポートし、データセットを準備します。  \n",
    "MNISTは手書き数字のデータセットで、AIモデルの訓練に広く使用されています。\n"
   ]
  },
  {
   "cell_type": "code",
   "execution_count": null,
   "id": "69737863-46d0-4319-96f9-9c116e6f9d26",
   "metadata": {},
   "outputs": [],
   "source": [
    "# 実行に必要なライブラリをインストールします\n",
    "! pip install japanize_matplotlib\n",
    "! pip install gradio==3.50.0\n",
    "! pip install pydot\n",
    "! pip install typing_extensions\n",
    "! pip install sqlalchemy\n",
    "! pip install pymysql\n",
    "! pip install google-cloud-storage"
   ]
  },
  {
   "cell_type": "code",
   "execution_count": null,
   "id": "250a332b-5e42-4e3d-b358-72de08cdd944",
   "metadata": {
    "tags": []
   },
   "outputs": [],
   "source": [
    "# ユーティリティライブラリからmnistをインポート\n",
    "from utils import mnist "
   ]
  },
  {
   "cell_type": "code",
   "execution_count": null,
   "id": "c6b11bb8-edf1-4e9b-986b-df39d6c4736d",
   "metadata": {
    "tags": []
   },
   "outputs": [],
   "source": [
    "# 手書き数字認識AIを作るために必要なクラスを定義します\n",
    "mn = mnist.MnistModel()"
   ]
  },
  {
   "cell_type": "markdown",
   "id": "51fd5178-9844-4be0-9f58-1d031e580466",
   "metadata": {
    "tags": []
   },
   "source": [
    "### データセットの概要確認\n",
    "\n",
    "学習用データセットとテストデータセットの総数を確認しましょう。  \n",
    "これにより、データセットの大きさを把握することができます。\n"
   ]
  },
  {
   "cell_type": "code",
   "execution_count": null,
   "id": "fd9030bf-b03e-4431-8cdd-bdd0d2dda61f",
   "metadata": {
    "tags": []
   },
   "outputs": [],
   "source": [
    "# 学習用とテストデータの総数を確認する\n",
    "mn.show_dataset_num()"
   ]
  },
  {
   "cell_type": "markdown",
   "id": "d926f509-69fe-4896-bbcc-022a7cd833e5",
   "metadata": {},
   "source": [
    "学習用データとラベルが60000個、テスト用データとラベルが1万個あることが確認できるかと思います。  \n",
    "また、ラベル数も手書き数字の0~9なので、10個あることを確認しましょう。"
   ]
  },
  {
   "cell_type": "markdown",
   "id": "d077c434-dde0-4d54-b115-9223f671da60",
   "metadata": {
    "tags": []
   },
   "source": [
    "### データセットの分布確認\n",
    "\n",
    "それぞれの数字がデータセット内でどのように分布しているかを視覚化します。  \n",
    "各クラスが均等に入っているのが理想的な配分となります。"
   ]
  },
  {
   "cell_type": "code",
   "execution_count": null,
   "id": "9ae57611-9fbe-4cad-8248-201fceaf04ec",
   "metadata": {
    "tags": []
   },
   "outputs": [],
   "source": [
    "# 学習とテストのデータが各数字いくつくらいあるかを確認する\n",
    "mn.show_dataset_graph()"
   ]
  },
  {
   "cell_type": "markdown",
   "id": "6ef6bf6e-8468-401d-8ed1-9bd2bd96aa89",
   "metadata": {
    "tags": []
   },
   "source": [
    "0~9の各数字が学習のデータセットでは約6000個、テストのデータセットが  \n",
    "約1000個入っているのが確認できましたでしょうか？"
   ]
  },
  {
   "cell_type": "markdown",
   "id": "ea6f5593-abf6-475e-941f-7fe14921548f",
   "metadata": {},
   "source": [
    "### サンプルデータの表示　\n",
    "\n",
    "MNISTデータセットの一部を表示してみましょう。  \n",
    "これにより、データセットの具体的な内容を視覚的に理解することができます。\n"
   ]
  },
  {
   "cell_type": "code",
   "execution_count": null,
   "id": "19b54233-ba70-418c-825d-7024b203891f",
   "metadata": {
    "tags": []
   },
   "outputs": [],
   "source": [
    "# チェックするデータの数\n",
    "num_samples = 5\n",
    "\n",
    "mn.display_mnist_samples(n=num_samples)"
   ]
  },
  {
   "cell_type": "markdown",
   "id": "56d2c9bf-c841-4fa2-8254-317cbf12d033",
   "metadata": {},
   "source": [
    "### 特定の数字のサンプル表示\n",
    "\n",
    "特定の数字（ここでは7）のサンプルを表示してみましょう。これにより、同じ数字でもさまざまな書き方があることがわかります。  \n"
   ]
  },
  {
   "cell_type": "code",
   "execution_count": null,
   "id": "0fc2ebd8-8196-48eb-a365-66b704dd3949",
   "metadata": {
    "tags": []
   },
   "outputs": [],
   "source": [
    "# チェックするデータの数\n",
    "num_samples = 10\n",
    "\n",
    "# チェックする手書きの数字\n",
    "choose_label_class = 7\n",
    "\n",
    "mn.display_mnist_samples(choose_label_class, n=num_samples)"
   ]
  },
  {
   "cell_type": "markdown",
   "id": "e399f260-654d-4a8a-bec5-6340d2389af3",
   "metadata": {},
   "source": [
    "<hr style=\"border-top: 2px solid #71EB8B;\">"
   ]
  },
  {
   "cell_type": "markdown",
   "id": "e7f78974-5f79-4e21-8fa1-6f229ebffade",
   "metadata": {
    "tags": []
   },
   "source": [
    "## <span style=\"color:#E5004C\"> データセットの前処理 </span>\n",
    "\n",
    "\n",
    "AIモデルの訓練に適した形式にデータセットを前処理します。  \n",
    "これには、正規化(0-255の値を0-1の値の範囲に収まるようにする)や形状の調整が含まれます。"
   ]
  },
  {
   "cell_type": "code",
   "execution_count": null,
   "id": "ab92b502-f659-4366-b850-605563baa227",
   "metadata": {
    "tags": []
   },
   "outputs": [],
   "source": [
    "# モデルに学習させるために、データセットの前処理を行う\n",
    "x_train, y_train, x_test, y_test = mn.preprocess()"
   ]
  },
  {
   "cell_type": "markdown",
   "id": "a2c67db2-2c65-40e6-96aa-cfb1bf84f0c3",
   "metadata": {},
   "source": [
    "<hr style=\"border-top: 2px solid #71EB8B;\">"
   ]
  },
  {
   "cell_type": "markdown",
   "id": "07d04df9-8614-4434-8cea-b4cadd0c7bff",
   "metadata": {
    "tags": []
   },
   "source": [
    "## <span style=\"color:#E5004C\"> AIの構築 </span>\n",
    "<p style=\"font-weight: bold; color: black; border: 3px solid #71EB8B; padding: 5px; display: inline-block;\">\n",
    "    参照: スライド 20ページ\n",
    "</p>\n",
    "\n",
    "ここでは、ニューラルネットワークモデル(AI)を構築します。AIのアーキテクチャを定義し、学習の準備を行います。  \n",
    "\n",
    "<span style=\"color: blue; \"> ★ </span> ***やってみよう！***  \n",
    "スライドを参考に、正しい選択肢を選んでAIを構築してください。  \n",
    "構築できたら、作ったAIの詳細が表示されます。"
   ]
  },
  {
   "cell_type": "code",
   "execution_count": null,
   "id": "bcb8df49-c378-43b4-b9e2-25ee66fab979",
   "metadata": {
    "tags": []
   },
   "outputs": [],
   "source": [
    "## AIを構築する\n",
    "mn.build_model()"
   ]
  },
  {
   "cell_type": "markdown",
   "id": "166a0c71-a81e-422f-9efa-60646c27c6a7",
   "metadata": {
    "tags": []
   },
   "source": [
    "モデルの詳細がみれたでしょうか？  \n",
    "詳細がみれたら、最後から4番目あたりから、`Flatten`や`Dense`が最後の方にあるか確認してみましょう。  \n",
    "なお、最初の部分には、今回は講義で触れていない`Conv2D`や`MaxPooling2D`があると思いますが  \n",
    "ワークの最後に作るゲームのために、AIの精度を少しでも上げたいので、画像分類に特化したニューラルネットワークを使っているためというのが理由です。  \n",
    "普通の分類であれば、今回講義で習った`Flatten`と`Dense`の組み合わせでも十分精度を出すことができます。"
   ]
  },
  {
   "cell_type": "markdown",
   "id": "22c88fd1-efbd-4292-befd-cdba0902d7f7",
   "metadata": {
    "tags": []
   },
   "source": [
    "<hr style=\"border-top: 2px solid #71EB8B;\">"
   ]
  },
  {
   "cell_type": "markdown",
   "id": "e4d0e9d8-88b6-465b-a6f8-252acaf9ff09",
   "metadata": {
    "tags": []
   },
   "source": [
    "## <span style=\"color:#E5004C\"> AIの学習 </span>\n",
    "\n",
    "<p style=\"font-weight: bold; color: black; border: 3px solid #71EB8B; padding: 5px; display: inline-block;\">\n",
    "    参照: スライド 28-29ページ\n",
    "</p>\n",
    "\n",
    "構築したAIを使用して、データセットで学習を行います。  \n",
    "学習することによって、AIは数字を認識するためのパターンを学びます。"
   ]
  },
  {
   "cell_type": "code",
   "execution_count": null,
   "id": "33ed6882-7bba-46e3-97e1-d2e1cf3f1b1e",
   "metadata": {
    "tags": []
   },
   "outputs": [],
   "source": [
    "# 構築したAIを使って学習させる\n",
    "history, model = mn.train(x_train, y_train, x_test, y_test)"
   ]
  },
  {
   "cell_type": "markdown",
   "id": "419a2d87-8843-4060-b789-a262242764c2",
   "metadata": {
    "tags": []
   },
   "source": [
    "<hr style=\"border-top: 2px solid #71EB8B;\">"
   ]
  },
  {
   "cell_type": "markdown",
   "id": "5a0d3728-6dfe-4dbc-8a12-0440c851fbc1",
   "metadata": {
    "tags": []
   },
   "source": [
    "## <span style=\"color:#E5004C\"> AIの評価 </span>  \n",
    "<p style=\"font-weight: bold; color: black; border: 3px solid #71EB8B; padding: 5px; display: inline-block;\">\n",
    "    参照: スライド 30-31ページ\n",
    "</p>\n",
    "\n",
    "### 学習過程の可視化\n",
    "学習の進捗をグラフで確認してモデルを評価します。  \n",
    "これには、精度(正解率)と損失の推移が含まれ、作ったAIの性能を把握するのに役立ちます。"
   ]
  },
  {
   "cell_type": "code",
   "execution_count": null,
   "id": "9d798eb3-fa32-480f-8d9f-bf805520c957",
   "metadata": {
    "tags": []
   },
   "outputs": [],
   "source": [
    "# 学習の経過をグラフで確認する\n",
    "mn.show_train_graph(history)"
   ]
  },
  {
   "cell_type": "markdown",
   "id": "95520895-5ac3-46f9-b55a-ea2d77d728fd",
   "metadata": {},
   "source": [
    "学習とテストが両方とも損失が下がっていき、また正解率も良くなっていっていることが確認できたでしょうか？"
   ]
  },
  {
   "cell_type": "markdown",
   "id": "aa8e015d-25fc-4a95-b65c-28f8d97ea764",
   "metadata": {},
   "source": [
    "### テストデータを使った予測\n",
    "\n",
    "テストデータセットを用いて、学習したモデルの性能を評価します。  \n",
    "ランダムに選んだサンプルでモデルの予測をテストします。  \n",
    "何回か実行してみて、予測結果と正解がどれくらい一致するか確認してみてください。"
   ]
  },
  {
   "cell_type": "code",
   "execution_count": null,
   "id": "3071dcaf-f0eb-41e1-9a35-dfb5b45ebf45",
   "metadata": {
    "tags": []
   },
   "outputs": [],
   "source": [
    "# テストデータから10個ランダムにデータを選択\n",
    "num_samples = 10  # 表示するテスト結果\n",
    "\n",
    "mn.predict(num_samples)"
   ]
  },
  {
   "cell_type": "markdown",
   "id": "202b01dd-0138-45e2-b833-e8b33810de6e",
   "metadata": {
    "tags": []
   },
   "source": [
    "<hr style=\"border-top: 2px solid #71EB8B;\">"
   ]
  },
  {
   "cell_type": "markdown",
   "id": "1cc420d5-ed89-45a6-8405-0b75a1673bb3",
   "metadata": {},
   "source": [
    "## 【応用】手書き数字認識ゲームの作成\n",
    "\n",
    "最後に、Gradioを使用してインタラクティブな手書き数字認識ゲームを作成します。  \n",
    "下記のコードを実行したら、`Running on public URL`の右側にあるリンクをクリックしてみてください。  \n",
    "ゲームを開くことができるはずです。  \n",
    "自分の書いた手書き文字の正答率がスコアになります。 高得点を目指しましょう！\n"
   ]
  },
  {
   "cell_type": "code",
   "execution_count": null,
   "id": "ec20f562-1752-42ff-8cd5-4a48feff8eaa",
   "metadata": {
    "tags": []
   },
   "outputs": [],
   "source": [
    "# 必要なライブラリをインポートします\n",
    "from utils import mnist_game  # ユーティリティライブラリからmnist_gameをインポート\n",
    "import gradio as gr            # デモアプリを作るために必要なgradioライブラリをインポート\n",
    "import time                    # 時間関連の操作を行うためにtimeライブラリをインポート\n",
    "\n",
    "# JavaScriptコードを定義します（ブラウザでのポップアップに使用）\n",
    "js = \"(x) => confirm(x)\"\n",
    "\n",
    "# ゲーム用に使用するクラスを定義します\n",
    "game = mnist_game.HandwritingGame(model)\n",
    "\n",
    "# Gradioアプリケーションの構築を開始します\n",
    "with gr.Blocks(theme=gr.themes.Soft()) as app:\n",
    "    # ゲームのタイトルと説明を表示します\n",
    "    gr.Markdown(\"<div style='text-align: center;'><h1>手書き数字認識ゲーム</h1><h3>1分間に指示された数字を書いて高スコアを狙おう</h3></div>\")\n",
    "    \n",
    "    # 画面のレイアウトを設定します\n",
    "    with gr.Row():\n",
    "        # 画面の左側のレイアウトを設定します\n",
    "        with gr.Column(scale=5):\n",
    "            # ユーザー名を入力するためのテキストボックスを作成します\n",
    "            user_name = gr.Textbox(label=\"ユーザー名\")\n",
    "            # ゲーム開始とリセットのためのボタンを配置します\n",
    "            with gr.Row():\n",
    "                start_button = gr.Button(\"ゲーム開始\", variant=\"primary\")\n",
    "                reset_button = gr.Button(\"リセット\")\n",
    "            # ゲームの説明や指示を表示するためのテキストボックスを配置します\n",
    "            output1 = gr.Textbox(value=\"「ユーザー名」に名前を入力して「ゲーム開始」ボタンを押してください。\", label=\"説明\", interactive=False)\n",
    "            # ユーザーが数字を描くためのキャンバスを配置します\n",
    "            image_input = gr.Image(\n",
    "                source=\"canvas\",\n",
    "                shape=(200, 200),\n",
    "                image_mode='L',\n",
    "                tool='color-sketch',\n",
    "                invert_colors=True\n",
    "            ).style(width=800, height=400)\n",
    "            # 判定とクリアのためのボタンを配置します\n",
    "            with gr.Row():\n",
    "                submit_button = gr.Button(\"判定\", variant=\"primary\")\n",
    "                clear_button = gr.Button(\"クリア\")\n",
    "            # 判定結果を表示するためのテキストボックスを配置します\n",
    "            output2 = gr.Textbox(label=\"結果\", interactive=False)\n",
    "        # 画面の右側のレイアウトを設定します\n",
    "        with gr.Column(scale=5):\n",
    "            # モデルの予測結果を表示するためのラベルを配置します\n",
    "            output3 = gr.Label(label='予測結果', num_top_classes=5, scale=2)\n",
    "            # スコアボードとランキングを表示するためのテキストボックスを配置します\n",
    "            with gr.Row():\n",
    "                score_board = gr.Textbox(label=\"スコア\", value=\"\", lines=15, scale=1)\n",
    "                total_ranking = gr.Textbox(label=\"ランキング\", value=\"\", lines=15, scale=2)\n",
    "\n",
    "    # それぞれのボタンに対して、クリックされたタイミングで実行される処理を定義します\n",
    "    start_button.click(fn=game.start_game, inputs=[output2, user_name, gr.State(False)], outputs=[output1, total_ranking])\n",
    "    reset_button.click(fn=game.start_game, inputs=[output2, user_name, gr.State(True)], outputs=[output1, total_ranking])\n",
    "    clear_button.click(fn=lambda x: None, inputs=image_input, outputs=image_input)\n",
    "    submit_button.click(\n",
    "        fn=game.recognize_drawing,\n",
    "        inputs=[output1, output2, image_input],\n",
    "        outputs=[output1, output2, output3, image_input, score_board]\n",
    "    )\n",
    "    # 「説明」のテキストボックスと「結果」のテキストボックスに文字が入力された場合に、実行される処理を定義します\n",
    "    output1.change(\n",
    "        fn=None, inputs=output1, outputs=None, _js=js\n",
    "    )\n",
    "    output2.change(\n",
    "        fn=game.start_game, inputs=output2, outputs=[output1, total_ranking], _js=js if time.time() > game.end_time else None\n",
    "    )\n",
    "\n",
    "# Gradioアプリケーションを起動します\n",
    "\n",
    "app.queue().launch(share=True, server_port=7860)"
   ]
  },
  {
   "cell_type": "code",
   "execution_count": null,
   "id": "31bc0c54-22ae-4261-8893-bf7a3cd001c8",
   "metadata": {},
   "outputs": [],
   "source": []
  },
  {
   "cell_type": "code",
   "execution_count": null,
   "id": "075cc31e-24c8-4b1b-9891-45d8f5ec34c1",
   "metadata": {},
   "outputs": [],
   "source": []
  },
  {
   "cell_type": "code",
   "execution_count": null,
   "id": "93282051-4b4f-43e0-b3bf-6a1ad771b29f",
   "metadata": {},
   "outputs": [],
   "source": []
  }
 ],
 "metadata": {
  "environment": {
   "kernel": "python3",
   "name": "tf2-gpu.2-13.m113",
   "type": "gcloud",
   "uri": "gcr.io/deeplearning-platform-release/tf2-gpu.2-13:m113"
  },
  "kernelspec": {
   "display_name": "conda_tensorflow2_p310",
   "language": "python",
   "name": "conda_tensorflow2_p310"
  },
  "language_info": {
   "codemirror_mode": {
    "name": "ipython",
    "version": 3
   },
   "file_extension": ".py",
   "mimetype": "text/x-python",
   "name": "python",
   "nbconvert_exporter": "python",
   "pygments_lexer": "ipython3",
   "version": "3.10.13"
  }
 },
 "nbformat": 4,
 "nbformat_minor": 5
}
